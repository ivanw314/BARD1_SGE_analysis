{
 "cells": [
  {
   "cell_type": "code",
   "execution_count": null,
   "id": "0",
   "metadata": {},
   "outputs": [],
   "source": [
    "import pandas as pd\n",
    "import statistics\n",
    "import altair as alt"
   ]
  },
  {
   "cell_type": "code",
   "execution_count": null,
   "id": "1",
   "metadata": {},
   "outputs": [],
   "source": [
    "scores = '/Users/ivan/Desktop/AAsubstitutions.withSNVscores.allexons.tsv' #path to SGE scores\n",
    "func_cutoff = 0.8 #functional class GMM cutoff (min)\n",
    "nf_cutoff = 0.65 #non-functional class GMM cutoff (max)\n",
    "BARD1_WT = 'MPDNRQPRNRQPRIRSGNEPRSAPAMEPDGRGAWAHSRAALDRLEKLLRCSRCTNILREPVCLGGCEHIFCSNCVSDCIGTGCPVCYTPAWIQDLKINRQLDSMIQLCSKLRNLLHDNELSDLKEDKPRKSLFNDAGNKKNSIKMWFSPRSKKVRYVVSKASVQTQPAIKKDASAQQDSYEFVSPSPPADVSERAKKASARSGKKQKKKTLAEINQKWNLEAEKEDGEFDSKEESKQKLVSFCSQPSVISSPQINGEIDLLASGSLTESECFGSLTEVSLPLAEQIESPDTKSRNEVVTPEKVCKNYLTSKKSLPLENNGKRGHHNRLSSPISKRCRTSILSTSGDFVKQTVPSENIPLPECSSPPSCKRKVGGTSGRKNSNMSDEFISLSPGTPPSTLSSSSYRRVMSSPSAMKLLPNMAVKRNHRGETLLHIASIKGDIPSVEYLLQNGSDPNVKDHAGWTPLHEACNHGHLKVVELLLQHKALVNTTGYQNDSPLHDAAKNGHVDIVKLLLSYGASRNAVNIFGLRPVDYTDDESMKSLLLLPEKNESSSASHCSVMNTGQRRDGPLVLIGSGLSSEQQKMLSELAVILKAKKYTEFDSTVTHVVVPGDAVQSTLKCMLGILNGCWILKFEWVKACLRRKVCEQEEKYEIPEGPRRSRLNREQLLPKLFDGCYFYLWGTFKHHPKDNLIKLVTAGGGQILSRKPKPDSDVTQTINTVAYHARPDSDQRFCTQYIIYEDLCNYHPERVRQGKVWKAPSSWFIDCVMSFELLPLDS'\n",
    "alt.data_transformers.disable_max_rows()"
   ]
  },
  {
   "cell_type": "code",
   "execution_count": null,
   "id": "2",
   "metadata": {
    "jupyter": {
     "source_hidden": true
    }
   },
   "outputs": [],
   "source": [
    "def read_scores(file): #Reads SGE scores\n",
    "    df = pd.read_csv(file, sep = '\\t')\n",
    "\n",
    "    df = df.loc[df['Consequence'].isin(['missense_variant', 'stop_gained', 'synonymous_variant'])]\n",
    "    #df = df.loc[df['snv_score'] > -3]\n",
    "    return df"
   ]
  },
  {
   "cell_type": "code",
   "execution_count": null,
   "id": "3",
   "metadata": {
    "jupyter": {
     "source_hidden": true
    }
   },
   "outputs": [],
   "source": [
    "def process_scores(df, func, nf): #Processes scores. Gets original AA, substituted AA, and functional classification\n",
    "    \n",
    "    df['og_AA'] = df['AAsub'].transform(lambda x: x[0]) #Makes column with the original amino acid\n",
    "    df['AA_change'] = df['AAsub'].transform(lambda x: x[-1]) #makes column with amino acid change\n",
    "    df['AApos'] = df['AAsub'].transform(lambda x: x[1: len(x)-1]) #makes column with residue position\n",
    "\n",
    "    aa_grouped =df.groupby('AAsub') #groups by amino acid substitution\n",
    " \n",
    "    aa_pos = [] #empty list to hold amino acid positions\n",
    "    full_sub = [] #empty list for substitution\n",
    "    og_aa = [] #empty list to hold original amino acids\n",
    "    sub_aa = [] #empty list to hold substituted amino acids\n",
    "    sub_score = [] #empty list to hold scores for each changge\n",
    "    function = [] #empty list to hold functional classification\n",
    "    \n",
    "    for aa_sub, vars in aa_grouped:\n",
    "        full_sub.append(aa_sub)\n",
    "        vars = vars.reset_index(drop = True) #resets index for each grouopby object\n",
    "        aa_pos.append(int(vars['AApos'][0])) #appends amino position\n",
    "        og_aa.append(vars['og_AA'][0]) #appends original amino acid\n",
    "        sub_aa.append(vars['AA_change'][0]) #appends substituted amino acid\n",
    "\n",
    "        score_list = vars['snv_score'].tolist() #makes list of SGE scores for that amino acid position\n",
    "        median_score = statistics.median(score_list)\n",
    "        sub_score.append(median_score)\n",
    "\n",
    "        if median_score > func:\n",
    "            function.append('Functional')\n",
    "        elif nf < median_score < func:\n",
    "            function.append('Intermediate')\n",
    "        else:\n",
    "            function.append('Non-Functional')\n",
    "\n",
    "\n",
    "    df = pd.DataFrame({'AApos': aa_pos, 'og_AA': og_aa,\n",
    "                        'AAsub': sub_aa, 'score': sub_score,\n",
    "                       'full_sub': full_sub, 'function': function\n",
    "                      }) #output dataframe\n",
    "\n",
    "    return df"
   ]
  },
  {
   "cell_type": "code",
   "execution_count": null,
   "id": "4",
   "metadata": {},
   "outputs": [],
   "source": [
    "def get_min_res_score(df): #Gets minimum missense scores for each residue position\n",
    "\n",
    "    df = df.loc[df['Consequence'].isin(['missense_variant'])]\n",
    "    aa_grouped_df = df.groupby('AApos')['snv_score'].min().reset_index() #gets the mean missense SGE score for each amino acid position\n",
    "\n",
    "    aa_grouped_df = aa_grouped_df.rename(columns = {'snv_score': 'min_snv_score'})\n",
    "    #makes bar chart that displays mean score vs. amino acid position\n",
    "    sge_min_bar = alt.Chart(aa_grouped_df).mark_bar().encode(\n",
    "        x = alt.X('AApos:Q', axis = alt.Axis(title = None, \n",
    "                                             labels = False, \n",
    "                                             ticks = False,\n",
    "                                             domain = True\n",
    "                                            ),\n",
    "                  scale = alt.Scale(domain = [0,777])), \n",
    "        y = alt.Y('min_snv_score:Q', axis = alt.Axis(title = 'Min. Missense Score', labelFontSize = 12, titleFontSize = 14)),\n",
    "        tooltip = [alt.Tooltip('AApos', title = 'Position: '),\n",
    "                   alt.Tooltip('min_snv_score', title = 'Min. Missense Score: ')]\n",
    "    ).properties(\n",
    "        width = 1500,\n",
    "        height = 150,\n",
    "        title = alt.TitleParams(text = '', fontSize = 22)\n",
    "    )\n",
    "\n",
    "    #sge_min_bar.display()\n",
    "\n",
    "    return sge_min_bar, aa_grouped_df"
   ]
  },
  {
   "cell_type": "code",
   "execution_count": null,
   "id": "5",
   "metadata": {
    "jupyter": {
     "source_hidden": true
    }
   },
   "outputs": [],
   "source": [
    "def get_mean_res_score(df): #Gets mean missense score for each residue position\n",
    "\n",
    "    df = df.loc[df['Consequence'].isin(['missense_variant'])]\n",
    "    aa_grouped_df = df.groupby('AApos')['snv_score'].mean().reset_index() #gets the mean missense SGE score for each amino acid position\n",
    "\n",
    "    aa_grouped_df = aa_grouped_df.rename(columns = {'snv_score': 'mean_snv_score'})\n",
    "    #makes bar chart that displays mean score vs. amino acid position\n",
    "    sge_mean_bar = alt.Chart(aa_grouped_df).mark_bar().encode(\n",
    "        x = alt.X('AApos:Q', scale = alt.Scale(domain = [0,777]),\n",
    "                  axis = alt.Axis(title = 'Amino Acid Position', \n",
    "                                  labelFontSize = 12, \n",
    "                                  titleFontSize = 14\n",
    "                                 )\n",
    "                 ),\n",
    "        y = alt.Y('mean_snv_score:Q', axis = alt.Axis(title = 'Mean Missense Score', labelFontSize = 12, titleFontSize = 14)),\n",
    "        tooltip = [alt.Tooltip('AApos', title = 'Position: '),\n",
    "                   alt.Tooltip('mean_snv_score', title = 'Mean Missense Score: ')]\n",
    "    ).properties(\n",
    "        width = 1500,\n",
    "        height = 150,\n",
    "        title = alt.TitleParams(text = '', fontSize = 22)\n",
    "    )\n",
    "\n",
    "    #sge_mean_bar.display()\n",
    "\n",
    "    return sge_mean_bar, aa_grouped_df"
   ]
  },
  {
   "cell_type": "code",
   "execution_count": null,
   "id": "6",
   "metadata": {
    "jupyter": {
     "source_hidden": true
    }
   },
   "outputs": [],
   "source": [
    "def min_mean_stacked(min_df, mean_df): #Builds min-mean stacked bar chart\n",
    "    \n",
    "    df = pd.merge(min_df, mean_df, how = 'inner')\n",
    "\n",
    "    df_long = df.melt(\n",
    "        id_vars=['AApos'],\n",
    "        value_vars=['min_snv_score', 'mean_snv_score'],\n",
    "        var_name='Series',\n",
    "        value_name='Value'\n",
    "    )\n",
    "\n",
    "    chart = alt.Chart(df_long).mark_bar(opacity = 0.7).encode(\n",
    "        x=alt.X('AApos:Q', scale = alt.Scale(domain = [0, 777]), title= 'Position'),\n",
    "        y=alt.Y('Value:Q', stack=True),\n",
    "        color=alt.Color('Series:N', legend=alt.Legend(title='Values')),\n",
    "        tooltip=['AApos', 'Series', 'Value']\n",
    "    ).properties(\n",
    "        width=1500,\n",
    "        height=200\n",
    "    )\n",
    "    \n",
    "    return chart"
   ]
  },
  {
   "cell_type": "code",
   "execution_count": null,
   "id": "7",
   "metadata": {
    "jupyter": {
     "source_hidden": true
    }
   },
   "outputs": [],
   "source": [
    "def append_mean_min(sub_df, min_df, mean_df): #Appends residue-level min and mean scores to main dataframe\n",
    "\n",
    "    #Create shared columns\n",
    "    min_df['AAsub'] = 'Min.'\n",
    "    mean_df['AAsub'] = 'Mean'\n",
    "\n",
    "    min_df['og_AA'] = 'Min.'\n",
    "    mean_df['og_AA'] = 'Mean'\n",
    "\n",
    "    min_df['full_sub'] = 'Min.'\n",
    "    mean_df['full_sub'] = 'Mean'\n",
    "\n",
    "    min_df['function'] = 'Min.'\n",
    "    mean_df['function'] = 'Mean'\n",
    "\n",
    "    min_df.AApos = min_df.AApos.astype(int) #set datatype as int\n",
    "    mean_df.AApos = mean_df.AApos.astype(int) #set datatype as int\n",
    "    \n",
    "    min_df = min_df.rename(columns = {'min_snv_score': 'score'}) #Renames to yield shared columns\n",
    "    mean_df = mean_df.rename(columns = {'mean_snv_score': 'score'}) #renames to yield shared columns\n",
    "\n",
    "    df = pd.concat([sub_df,min_df, mean_df]) #concatenates dataframes\n",
    "    df.loc[(df['AAsub'] == '*', 'AAsub')] = 'Stop' #Renames stop-gained variants\n",
    "    return df"
   ]
  },
  {
   "cell_type": "code",
   "execution_count": null,
   "id": "8",
   "metadata": {
    "jupyter": {
     "source_hidden": true
    }
   },
   "outputs": [],
   "source": [
    "def add_wt_seq(df, wt_seq): #Adds the WT seqeuence to dataframe\n",
    "    wt = [] #list to hold WT sequence\n",
    "    \n",
    "    for char in wt_seq:\n",
    "        wt.append(char) #Splits up large string into separate characters\n",
    "\n",
    "    #Creates DataFrame with WT sequence\n",
    "    wt_data = pd.DataFrame({\n",
    "        'AApos': range(1, len(wt) + 1),\n",
    "        'og_AA': wt,\n",
    "        'AAsub': wt, \n",
    "        'score': 1,\n",
    "        'full_sub': 'WT',\n",
    "        'is_wt': True\n",
    "    })\n",
    "\n",
    "    df['is_wt'] = False #Sets WT to False in SGE dataframe\n",
    "\n",
    "    df_w_WT = pd.concat([df, wt_data], ignore_index = True) #concatenates dataframes\n",
    "\n",
    "    return df_w_WT"
   ]
  },
  {
   "cell_type": "code",
   "execution_count": null,
   "id": "9",
   "metadata": {
    "jupyter": {
     "source_hidden": true
    }
   },
   "outputs": [],
   "source": [
    "def heatmap(df): #Builds heatmap without WT sequence\n",
    "\n",
    "\n",
    "    order = ['A', 'C', 'D', 'E', 'F', 'G', 'H', 'I', 'K', 'L', 'M', 'N', 'P', 'Q', 'R', 'S', 'T', 'V', 'W', 'Y', 'Stop', 'Min.', 'Mean']\n",
    "        \n",
    "    map = alt.Chart(df).mark_rect().encode(\n",
    "        x = alt.X('AApos:N', axis=alt.Axis(\n",
    "                values=[i for i in range(0, 777, 100)],\n",
    "                title=None,  # removes title\n",
    "                labels=False,  # removes labels\n",
    "                ticks=False,  # removes ticks\n",
    "                domain=True  # keeps the domain line,\n",
    "        )),\n",
    "        y = alt.Y('AAsub:N', sort = order,\n",
    "                  axis = alt.Axis(title = 'Amino Acid Substitution', titleFontSize = 16)),\n",
    "        color = alt.condition(\n",
    "            alt.datum.score <= 0,  # Replace X with your lower threshold\n",
    "            alt.value('#ff0000'),  # Pure red for values <= X\n",
    "            alt.condition(\n",
    "                alt.datum.score >= 1,  # Replace Y with your upper threshold\n",
    "                alt.value('#0000ff'),  # Pure blue for values >= Y\n",
    "                alt.Color('score:Q',  # Gradient for values between X and Y\n",
    "                         scale=alt.Scale(\n",
    "                             domain=[0, 1],\n",
    "                             range=['#ff0000', '#a6a6a6', '#0000ff']\n",
    "                         ))\n",
    "            )\n",
    "        ),\n",
    "        tooltip = [alt.Tooltip('AApos', title = 'Position: '),\n",
    "                   alt.Tooltip('full_sub', title = 'Substitution: '),\n",
    "                   alt.Tooltip('score', title = 'SGE Score: ')]\n",
    "    ).properties(\n",
    "        height = 700, \n",
    "        width = 1500\n",
    "    ).interactive()\n",
    "\n",
    "    \n",
    "    #Things for rectanges for domains - probably easier to just draw them in\n",
    "    rects_df = pd.DataFrame({\n",
    "        'start': [26, 426, 566],\n",
    "        'end': [120, 560, 777],\n",
    "        'y': [10,10,10]\n",
    "    })\n",
    "    domain_rects = alt.Chart(rects_df).mark_rect(\n",
    "        height = 20\n",
    "    ).encode(\n",
    "        x = 'start:Q',\n",
    "        x2 = 'end:Q',\n",
    "        color = alt.value('gray')\n",
    "    )\n",
    "    \n",
    "    map.display()\n",
    "\n",
    "    return map\n",
    "    #domain_rects.display()\n",
    "\n",
    "    #domain_heatmap = alt.layer(domain_rects, map)\n",
    "\n",
    "    #domain_heatmap.display()"
   ]
  },
  {
   "cell_type": "code",
   "execution_count": null,
   "id": "10",
   "metadata": {
    "jupyter": {
     "source_hidden": true
    }
   },
   "outputs": [],
   "source": [
    "def heatmap_WT(df): #Builds heatmap with WT sequence in black\n",
    "\n",
    "\n",
    "    order = ['A', 'C', 'D', 'E', 'F', 'G', 'H', 'I', 'K', 'L', 'M', 'N', 'P', 'Q', 'R', 'S', 'T', 'V', 'W', 'Y', 'Stop', 'Min.', 'Mean'] #order for heatmap y-axis\n",
    "\n",
    "    \n",
    "    #for heatmap\n",
    "    map = alt.Chart(df).mark_rect().encode(\n",
    "    x = alt.X('AApos:N', axis=alt.Axis(\n",
    "            values=[i for i in range(0, 777, 100)],\n",
    "            title='Amino Acid Residue', titleFontSize = 16,\n",
    "            labels=True,\n",
    "            ticks= True,\n",
    "            domain=True\n",
    "    )),\n",
    "    y = alt.Y('AAsub:N', sort = order,\n",
    "              axis = alt.Axis(title = 'Amino Acid Substitution', titleFontSize = 16)),\n",
    "    color = alt.condition(\n",
    "    'datum.is_wt == true',  # Note: in Vega-Lite, we need to use 'true' not 'True'\n",
    "    alt.value('#000000'),  # Black for WT\n",
    "    alt.condition(\n",
    "        alt.datum.score <= 0,\n",
    "        alt.value('#ff0000'),\n",
    "        alt.condition(\n",
    "            alt.datum.score >= 1,\n",
    "            alt.value('#0000ff'),\n",
    "            alt.Color('score:Q',title = 'SGE Score',\n",
    "                     scale=alt.Scale(\n",
    "                         domain=[0, 1],\n",
    "                         range=['#ff0000', '#a6a6a6', '#0000ff']\n",
    "                     ))\n",
    "        )\n",
    "    )\n",
    "    ),\n",
    "    tooltip = [alt.Tooltip('AApos', title = 'Position: '),\n",
    "               alt.Tooltip('full_sub', title = 'Substitution: '),\n",
    "               alt.Tooltip('score', title = 'SGE Score: ')]\n",
    "    ).properties(\n",
    "    height = 700, \n",
    "    width = 1500\n",
    "    ).interactive()\n",
    "\n",
    "    #for WT legend\n",
    "    legend_data = pd.DataFrame([{'label': 'Wild Type'}])\n",
    "    legend = alt.Chart(legend_data).mark_rect().encode(\n",
    "        y=alt.Y('label:N', title = ''),\n",
    "        color=alt.value('#000000')\n",
    "    ).properties(\n",
    "        title=''\n",
    "    )\n",
    "    \n",
    "    # Combine the charts\n",
    "    final_chart = alt.hconcat(map, legend).resolve_scale(\n",
    "        color='independent'\n",
    "    )\n",
    "\n",
    "    final_chart.display()"
   ]
  },
  {
   "cell_type": "code",
   "execution_count": null,
   "id": "11",
   "metadata": {
    "jupyter": {
     "source_hidden": true
    }
   },
   "outputs": [],
   "source": [
    "def final_fig(map, min_bar, mean_bar, stack):\n",
    "\n",
    "    fig = (alt.vconcat(map, min_bar, mean_bar, spacing = 0).configure_view(strokeWidth = 0).configure_axis(domain = False))\n",
    "    fig.display()\n",
    "\n",
    "    fig_2 = alt.vconcat(map, stack, spacing = 0).resolve_scale(\n",
    "        color = 'independent',\n",
    "        y = 'independent'\n",
    "    ).resolve_legend(\n",
    "        color = 'independent'\n",
    "    ).resolve_axis(\n",
    "        x = 'independent', \n",
    "        y = 'independent'\n",
    "    )\n",
    "    fig_2.display()\n",
    "\n"
   ]
  },
  {
   "cell_type": "code",
   "execution_count": null,
   "id": "12",
   "metadata": {},
   "outputs": [],
   "source": [
    "def main():\n",
    "    raw_scores = read_scores(scores)\n",
    "    sub_data = process_scores(raw_scores, func_cutoff, nf_cutoff)\n",
    "    min_bar, min_df = get_min_res_score(raw_scores)\n",
    "    mean_bar, mean_df = get_mean_res_score(raw_scores)\n",
    "    min_mean_sub_data = append_mean_min(sub_data, min_df, mean_df)\n",
    "    with_wt = add_wt_seq(min_mean_sub_data, BARD1_WT)\n",
    "    \n",
    "    #stacked_bar = min_mean_stacked(min_df, mean_df)\n",
    "    #map = heatmap(sub_data)\n",
    "    #heatmap(with_wt)\n",
    "    \n",
    "    heatmap_WT(with_wt)\n",
    "    \n",
    "    #final_fig(map, min_bar, mean_bar, stacked_bar)"
   ]
  },
  {
   "cell_type": "code",
   "execution_count": null,
   "id": "13",
   "metadata": {},
   "outputs": [],
   "source": [
    "main()"
   ]
  },
  {
   "cell_type": "code",
   "execution_count": null,
   "id": "14",
   "metadata": {},
   "outputs": [],
   "source": []
  },
  {
   "cell_type": "code",
   "execution_count": null,
   "id": "15",
   "metadata": {},
   "outputs": [],
   "source": []
  }
 ],
 "metadata": {
  "kernelspec": {
   "display_name": "Python 3 (ipykernel)",
   "language": "python",
   "name": "python3"
  },
  "language_info": {
   "codemirror_mode": {
    "name": "ipython",
    "version": 3
   },
   "file_extension": ".py",
   "mimetype": "text/x-python",
   "name": "python",
   "nbconvert_exporter": "python",
   "pygments_lexer": "ipython3",
   "version": "3.11.8"
  }
 },
 "nbformat": 4,
 "nbformat_minor": 5
}
