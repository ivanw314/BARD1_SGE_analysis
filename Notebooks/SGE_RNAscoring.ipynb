{
 "cells": [
  {
   "cell_type": "code",
   "execution_count": null,
   "id": "0",
   "metadata": {},
   "outputs": [],
   "source": [
    "import pandas as pd\n",
    "import altair as alt\n",
    "from pathlib import Path"
   ]
  },
  {
   "cell_type": "code",
   "execution_count": null,
   "id": "1",
   "metadata": {},
   "outputs": [],
   "source": [
    "rna_count_folder = '../Data/RNAscoring_dev_data/RNA_counts/' #path to RNA counts folder\n",
    "dna_count_folder = '../Data/RNAscoring_dev_data/DNA_counts/' #paths to DNA counts folder"
   ]
  },
  {
   "cell_type": "code",
   "execution_count": null,
   "id": "2",
   "metadata": {},
   "outputs": [],
   "source": [
    "def read_counts(rna_counts, dna_counts):\n",
    "    rna_path = Path(rna_counts) #Creates path object to RNA counts\n",
    "    dna_path = Path(dna_counts) #Creates path object to DNA counts\n",
    "    \n",
    "    rna_outputs = list(rna_path.glob('*.tsv')) #Gets list of RNA count files\n",
    "    dna_outputs = list(dna_path.glob('*.tsv')) #Gets list of DNA count files\n",
    "    \n",
    "    all_outputs = []\n",
    "\n",
    "    i = 0\n",
    "    while i < len(rna_outputs):\n",
    "        paired_output = (rna_outputs[0], dna_outputs[0])\n",
    "        all_outputs.append(paired_output)\n",
    "\n",
    "        i += 1\n",
    "\n",
    "    for elem in all_outputs:\n",
    "        rna, dna = elem\n",
    "\n",
    "        rna_counts = pd.read_csv(rna, sep = '\\t')\n",
    "        sampleid = rna_counts['sampleid'][0]\n",
    "        \n",
    "        if 'R3R6' or 'R7R8R9' in sampleid:\n",
    "            rep = 'rep_3'\n",
    "        elif 'R2R5' or 'R4R5R6' in sampleid:\n",
    "            rep = 'rep_2'\n",
    "        elif 'R1R4' or 'R1R2R3' in sampleid:\n",
    "            rep = 'rep_1'\n",
    "            \n",
    "        target_rep_name = rna_counts['target'] + rep\n",
    "        rna_counts['target_rep'] = target_rep_name\n",
    "        rna_counts = rna_counts.rename(columns = {'count': 'RNAcount'})\n",
    "        rna_counts['pos'] = rna_counts['pos'].astype(str)\n",
    "        rna_counts['posID'] = rna_counts['pos'] + ':' + rna_counts['allele']\n",
    "\n",
    "        \n",
    "        dna_counts = pd.read_csv(dna, sep = '\\t')\n",
    "        dna_counts = dna_counts.rename(columns = {'count': 'DNAcount'})\n",
    "        dna_counts['pos'] = dna_counts['pos'].astype(str)\n",
    "        dna_counts['posID'] = dna_counts['pos'] + ':' + dna_counts['allele']\n",
    "        \n",
    "        merged = pd.merge(rna_counts, dna_counts, how = 'inner', on = 'posID')\n",
    "        merged = merged.drop(columns = ['sampleid_x', 'sampleid_y', 'target_x', 'target_y','chrom_x', 'chrom_y', 'pos_x', 'pos_y', 'allele_x', 'allele_y'])\n",
    "        \n",
    "        print(merged)"
   ]
  },
  {
   "cell_type": "code",
   "execution_count": null,
   "id": "3",
   "metadata": {},
   "outputs": [],
   "source": [
    "def main():\n",
    "    read_counts(rna_count_folder, dna_count_folder)"
   ]
  },
  {
   "cell_type": "code",
   "execution_count": null,
   "id": "4",
   "metadata": {},
   "outputs": [],
   "source": [
    "main()"
   ]
  },
  {
   "cell_type": "code",
   "execution_count": null,
   "id": "5",
   "metadata": {},
   "outputs": [],
   "source": []
  }
 ],
 "metadata": {
  "kernelspec": {
   "display_name": "Python 3 (ipykernel)",
   "language": "python",
   "name": "python3"
  },
  "language_info": {
   "codemirror_mode": {
    "name": "ipython",
    "version": 3
   },
   "file_extension": ".py",
   "mimetype": "text/x-python",
   "name": "python",
   "nbconvert_exporter": "python",
   "pygments_lexer": "ipython3",
   "version": "3.11.8"
  }
 },
 "nbformat": 4,
 "nbformat_minor": 5
}
