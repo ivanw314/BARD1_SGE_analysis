{
 "cells": [
  {
   "cell_type": "code",
   "execution_count": null,
   "id": "0",
   "metadata": {},
   "outputs": [],
   "source": [
    "import pandas as pd\n",
    "import altair as alt\n",
    "import numpy as np\n",
    "from pathlib import Path"
   ]
  },
  {
   "cell_type": "code",
   "execution_count": null,
   "id": "1",
   "metadata": {},
   "outputs": [],
   "source": [
    "rna_count_folder = '../Data/RNAscoring_dev_data/RNA_counts/' #path to RNA counts folder\n",
    "dna_count_folder = '../Data/RNAscoring_dev_data/DNA_counts/' #paths to DNA counts folder"
   ]
  },
  {
   "cell_type": "code",
   "execution_count": null,
   "id": "2",
   "metadata": {
    "jupyter": {
     "source_hidden": true
    }
   },
   "outputs": [],
   "source": [
    "def read_counts(rna_counts, dna_counts): #reads RNA/DNA count files and merges them\n",
    "               \n",
    "    rna_path = Path(rna_counts) #Creates path object to RNA counts\n",
    "    dna_path = Path(dna_counts) #Creates path object to DNA counts\n",
    "    \n",
    "    rna_outputs = list(rna_path.glob('*.tsv')) #Gets list of RNA count files\n",
    "    dna_outputs = list(dna_path.glob('*.tsv')) #Gets list of DNA count files\n",
    "    \n",
    "    all_outputs = [] #list to hold tuples of DNA/RNA count files paired by replicate\n",
    "\n",
    "    i = 0\n",
    "    while i < len(rna_outputs): #Iterates through RNA count files and constructs the paired DNA/RNA tuples\n",
    "        paired_output = (rna_outputs[0], dna_outputs[0]) #Paired RNA/DNA files\n",
    "        all_outputs.append(paired_output) #Appends ot list\n",
    "\n",
    "        i += 1\n",
    "\n",
    "    all_rep_counts = {} #Dictionary to hold merged RNA/DNA count dataframe\n",
    "    for elem in all_outputs: #Iterates through list of paired RNA/DNA count files\n",
    "        rna, dna = elem #Breaks up tuple into constituent RNA/DNA count file paths\n",
    "\n",
    "        rna_counts = pd.read_csv(rna, sep = '\\t') #Reads RNA count file\n",
    "        sampleid = rna_counts['sampleid'][0] #Gets sample ID from first row\n",
    "\n",
    "        #Booleans to get replicate number from sample ID\n",
    "        if 'R3R6' or 'R7R8R9' in sampleid:\n",
    "            rep = 'rep_3'\n",
    "        elif 'R2R5' or 'R4R5R6' in sampleid:\n",
    "            rep = 'rep_2'\n",
    "        elif 'R1R4' or 'R1R2R3' in sampleid:\n",
    "            rep = 'rep_1'\n",
    "\n",
    "        #Creates a column that has target and replicate number\n",
    "        target_rep_name = rna_counts['target'] + rep \n",
    "        rna_counts['target_rep'] = target_rep_name \n",
    "        \n",
    "        rna_counts = rna_counts.rename(columns = {'count': 'RNAcount'}) #Renames count column in RNA file\n",
    "        rna_counts['pos'] = rna_counts['pos'].astype(str) #Sets 'pos' column to string data type for merging\n",
    "        rna_counts['posID'] = rna_counts['pos'] + ':' + rna_counts['allele'] #Creates position ID that is genomic coordinate : allele for merging\n",
    "\n",
    "        \n",
    "        dna_counts = pd.read_csv(dna, sep = '\\t') #Reads DNA file\n",
    "        dna_counts = dna_counts.rename(columns = {'count': 'DNAcount'}) #Renames count column in DNA file\n",
    "        dna_counts['pos'] = dna_counts['pos'].astype(str) #Sets 'pos' column to string data type for merging\n",
    "        dna_counts['posID'] = dna_counts['pos'] + ':' + dna_counts['allele'] #Creates position ID column for merging\n",
    "         \n",
    "        merged = pd.merge(rna_counts, dna_counts, how = 'inner', on = 'posID') #Merges RNA and DNA dataframes on intersection of posID column \n",
    "        merged = merged.drop(columns = ['sampleid_x', 'sampleid_y', 'target_x','chrom_x', 'chrom_y', 'pos_x', 'pos_y', 'allele_x', 'allele_y']) #drops duplicate columns \n",
    "        merged = merged.rename(columns  = {'target_y' : 'target'}) #Renames target column to keep exon SGE target name\n",
    "        merged = merged.loc[:, ['target_rep','target', 'posID', 'RNAcount', 'DNAcount']] #Columns reordered\n",
    "        \n",
    "        all_rep_counts[target_rep_name[0]] = merged #merged dataframe added to dictionary\n",
    "\n",
    "    return all_rep_counts"
   ]
  },
  {
   "cell_type": "code",
   "execution_count": null,
   "id": "3",
   "metadata": {},
   "outputs": [],
   "source": [
    "def get_rna_scores(rep_dict): #Handles RNA scoring of variants\n",
    "\n",
    "    target_reps = list(rep_dict.keys()) #Gets list of all targets and replicates present in dictionary\n",
    "    rna_scored = {} #Diciotnary to hold RNA-scored dataframes\n",
    "\n",
    "    #Does RNA scoring\n",
    "    for elem in target_reps:\n",
    "        df = rep_dict[elem] #Gets dataframe\n",
    "        df = df[~((df['RNAcount'] == 0) | (df['DNAcount'] == 0))].copy() #Drops rows with RNA/DNA count of 0\n",
    "\n",
    "        df = df.reset_index(drop = True) #Resets index\n",
    "         \n",
    "        DNAcount = df['DNAcount'].sum() #Gets total DNA counts\n",
    "        RNAcount = df['RNAcount'].sum() #Gets total RNA rounts\n",
    "\n",
    "        df['DNAfreq'] = df['DNAcount'] / DNAcount #Calculates DNA frequency\n",
    "        df['RNAfreq'] = df['RNAcount'] / RNAcount #Calculates RNA frequency\n",
    "\n",
    "        df['RNAscore'] = np.log2(df['RNAfreq']/ df['DNAfreq']) #Calculates RNA score using log2 fold change\n",
    "\n",
    "        rna_scored[df['target_rep'][0]] = df #RNA-scored dataframe is added to rna_scored dataframe\n",
    "\n",
    "    return rna_scored\n",
    "        "
   ]
  },
  {
   "cell_type": "code",
   "execution_count": null,
   "id": "4",
   "metadata": {},
   "outputs": [],
   "source": [
    "def main():\n",
    "    all_counts = read_counts(rna_count_folder, dna_count_folder)\n",
    "    rna_scored = get_rna_scores(all_counts)\n"
   ]
  },
  {
   "cell_type": "code",
   "execution_count": null,
   "id": "5",
   "metadata": {},
   "outputs": [],
   "source": [
    "main()"
   ]
  },
  {
   "cell_type": "code",
   "execution_count": null,
   "id": "6",
   "metadata": {},
   "outputs": [],
   "source": []
  }
 ],
 "metadata": {
  "kernelspec": {
   "display_name": "Python 3 (ipykernel)",
   "language": "python",
   "name": "python3"
  },
  "language_info": {
   "codemirror_mode": {
    "name": "ipython",
    "version": 3
   },
   "file_extension": ".py",
   "mimetype": "text/x-python",
   "name": "python",
   "nbconvert_exporter": "python",
   "pygments_lexer": "ipython3",
   "version": "3.11.8"
  }
 },
 "nbformat": 4,
 "nbformat_minor": 5
}
