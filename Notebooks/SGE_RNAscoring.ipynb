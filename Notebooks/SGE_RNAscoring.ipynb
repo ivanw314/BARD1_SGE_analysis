{
 "cells": [
  {
   "cell_type": "code",
   "execution_count": null,
   "id": "0",
   "metadata": {},
   "outputs": [],
   "source": [
    "import pandas as pd\n",
    "import altair as alt\n",
    "from pathlib import Path"
   ]
  },
  {
   "cell_type": "code",
   "execution_count": null,
   "id": "1",
   "metadata": {},
   "outputs": [],
   "source": [
    "rna_count_folder = '../Data/RNAscoring_dev_data/RNA_counts/' #path to RNA counts folder\n",
    "dna_count_folder = '../Data/RNAscoring_dev_data/DNA_counts/' #paths to DNA counts folder (currently the same, but will code as if they are not)"
   ]
  },
  {
   "cell_type": "code",
   "execution_count": null,
   "id": "2",
   "metadata": {},
   "outputs": [],
   "source": [
    "def read_counts(rna_counts, dna_counts):\n",
    "    rna_path = Path(rna_counts) #Creates path object to RNA counts\n",
    "    dna_path = Path(dna_counts) #Creates path object to DNA counts\n",
    "    \n",
    "    rna_outputs = list(rna_path.glob('*.tsv')) #Gets list of RNA count files\n",
    "    dna_outputs = list(dna_path.glob('*.tsv')) #Gets list of DNA count files\n",
    "    \n",
    "    print(rna_outputs)"
   ]
  },
  {
   "cell_type": "code",
   "execution_count": null,
   "id": "3",
   "metadata": {},
   "outputs": [],
   "source": [
    "def main():\n",
    "    read_counts(rna_count_folder, dna_count_folder)"
   ]
  },
  {
   "cell_type": "code",
   "execution_count": null,
   "id": "4",
   "metadata": {},
   "outputs": [],
   "source": [
    "main()"
   ]
  },
  {
   "cell_type": "code",
   "execution_count": null,
   "id": "5",
   "metadata": {},
   "outputs": [],
   "source": []
  }
 ],
 "metadata": {
  "kernelspec": {
   "display_name": "Python 3 (ipykernel)",
   "language": "python",
   "name": "python3"
  },
  "language_info": {
   "codemirror_mode": {
    "name": "ipython",
    "version": 3
   },
   "file_extension": ".py",
   "mimetype": "text/x-python",
   "name": "python",
   "nbconvert_exporter": "python",
   "pygments_lexer": "ipython3",
   "version": "3.11.8"
  }
 },
 "nbformat": 4,
 "nbformat_minor": 5
}
