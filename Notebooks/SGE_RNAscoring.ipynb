{
 "cells": [
  {
   "cell_type": "code",
   "execution_count": null,
   "id": "0",
   "metadata": {},
   "outputs": [],
   "source": [
    "import pandas as pd\n",
    "import altair as alt\n",
    "import numpy as np\n",
    "from scipy import stats\n",
    "from pathlib import Path"
   ]
  },
  {
   "cell_type": "code",
   "execution_count": null,
   "id": "1",
   "metadata": {},
   "outputs": [],
   "source": [
    "rna_count_folder = '../Data/RNAscoring_dev_data/RNA_counts/' #path to RNA counts folder\n",
    "dna_count_folder = '../Data/RNAscoring_dev_data/DNA_counts/' #paths to DNA counts folder\n",
    "sge_score = '../Data/20250122_BARD1_SGEscores_wAAsub.xlsx' #path to SGe score file"
   ]
  },
  {
   "cell_type": "code",
   "execution_count": null,
   "id": "2",
   "metadata": {
    "jupyter": {
     "source_hidden": true
    }
   },
   "outputs": [],
   "source": [
    "def read_counts(rna_counts, dna_counts): #reads RNA/DNA count files and merges them\n",
    "               \n",
    "    rna_path = Path(rna_counts) #Creates path object to RNA counts\n",
    "    dna_path = Path(dna_counts) #Creates path object to DNA counts\n",
    "    \n",
    "    rna_outputs = sorted(list(rna_path.glob('*.tsv'))) #Gets list of RNA count files. Sort function added to order replicates\n",
    "    dna_outputs = sorted(list(dna_path.glob('*.tsv'))) #Gets list of DNA count files. Sort function added to order replicates\n",
    "    \n",
    "    all_outputs = [] #list to hold tuples of DNA/RNA count files paired by replicate\n",
    "\n",
    "    i = 0\n",
    "    while i < len(rna_outputs): #Iterates through RNA count files and constructs the paired DNA/RNA tuples\n",
    "        paired_output = (rna_outputs[i], dna_outputs[i]) #Paired RNA/DNA files\n",
    "        all_outputs.append(paired_output) #Appends ot list\n",
    "\n",
    "        i += 1\n",
    "\n",
    "    all_rep_counts = {} #Dictionary to hold merged RNA/DNA count dataframe\n",
    "    \n",
    "    for elem in all_outputs: #Iterates through list of paired RNA/DNA count files\n",
    "        rna, dna = elem #Breaks up tuple into constituent RNA/DNA count file paths\n",
    "        rna_counts = pd.read_csv(rna, sep = '\\t') #Reads RNA count file\n",
    "        sampleid = rna_counts['sampleid'][0] #Gets sample ID from first row\n",
    "\n",
    "        #Booleans to get replicate number from sample ID\n",
    "        if 'R3R6' in sampleid or 'R7R8R9' in sampleid:\n",
    "            rep = 'rep_3'\n",
    "        elif 'R2R5'in sampleid or 'R4R5R6' in sampleid:\n",
    "            rep = 'rep_2'\n",
    "        elif 'R1R4' in sampleid or 'R1R2R3' in sampleid:\n",
    "            rep = 'rep_1'\n",
    "\n",
    "        #Creates a column that has target and replicate number\n",
    "        target_rep_name = rna_counts['target'] + rep \n",
    "        rna_counts['target_rep'] = target_rep_name \n",
    "        rna_counts = rna_counts.rename(columns = {'count': 'RNAcount'}) #Renames count column in RNA file\n",
    "        rna_counts['pos'] = rna_counts['pos'].astype(str) #Sets 'pos' column to string data type for merging\n",
    "        rna_counts['pos_id'] = rna_counts['pos'] + ':' + rna_counts['allele'] #Creates position ID that is genomic coordinate : allele for merging\n",
    "\n",
    "        \n",
    "        dna_counts = pd.read_csv(dna, sep = '\\t') #Reads DNA file\n",
    "        dna_counts = dna_counts.rename(columns = {'count': 'DNAcount'}) #Renames count column in DNA file\n",
    "        dna_counts['pos'] = dna_counts['pos'].astype(str) #Sets 'pos' column to string data type for merging\n",
    "        dna_counts['pos_id'] = dna_counts['pos'] + ':' + dna_counts['allele'] #Creates position ID column for merging\n",
    "         \n",
    "        merged = pd.merge(rna_counts, dna_counts, how = 'inner', on = 'pos_id') #Merges RNA and DNA dataframes on intersection of pos_id column \n",
    "        merged = merged.drop(columns = ['sampleid_x', 'sampleid_y', 'target_x','chrom_x', 'chrom_y', 'pos_x', 'pos_y', 'allele_x', 'allele_y']) #drops duplicate columns \n",
    "        merged = merged.rename(columns  = {'target_y' : 'target'}) #Renames target column to keep exon SGE target name\n",
    "        merged = merged.loc[:, ['target_rep','target', 'pos_id', 'RNAcount', 'DNAcount']] #Columns reordered\n",
    "        \n",
    "        all_rep_counts[target_rep_name[0]] = merged #merged dataframe added to dictionary\n",
    "\n",
    "\n",
    "    return all_rep_counts"
   ]
  },
  {
   "cell_type": "code",
   "execution_count": null,
   "id": "3",
   "metadata": {},
   "outputs": [],
   "source": [
    "def rna_v_dna_plot(all_counts):\n",
    "    rep_regions = list(all_counts.keys())\n",
    "\n",
    "    df_list = []\n",
    "    for elem in rep_regions:\n",
    "        df_list.append(all_counts[elem])\n",
    "\n",
    "\n",
    "    all_df = pd.concat(df_list)\n",
    "\n",
    "\n",
    "    scatter = alt.Chart(all_df).mark_circle().encode(\n",
    "        x = alt.X('RNAcount', title = 'RNA Count'),\n",
    "        y = alt.Y('DNAcount', title = 'DNA Count'),\n",
    "        tooltip = [alt.Tooltip('RNAcount', title = 'RNA Count: '),\n",
    "                   alt.Tooltip('DNAcount', title = 'DNA Count: ')\n",
    "                  ]\n",
    "    )\n",
    "\n",
    "    trend_line = alt.Chart(all_df).transform_regression(\n",
    "        'RNAcount', 'DNAcount',\n",
    "        groupby=['target_rep']\n",
    "    ).mark_line(color='blue').encode(\n",
    "        x='RNAcount',\n",
    "        y='DNAcount'\n",
    "    )\n",
    "\n",
    "\n",
    "    combined = (scatter + trend_line).facet(\n",
    "        facet=alt.Facet('target_rep', title = 'DNA vs. RNA Counts')  # Set maximum of 4 columns per row\n",
    "        ).resolve_scale(\n",
    "            x = 'independent',\n",
    "            y = 'independent'\n",
    "        ).properties(\n",
    "            columns = 3\n",
    "        ).interactive()\n",
    "\n",
    "    combined.display()"
   ]
  },
  {
   "cell_type": "code",
   "execution_count": null,
   "id": "4",
   "metadata": {
    "jupyter": {
     "source_hidden": true
    }
   },
   "outputs": [],
   "source": [
    "def get_rna_scores(rep_dict): #Handles RNA scoring of variants\n",
    "\n",
    "    target_reps = list(rep_dict.keys()) #Gets list of all targets and replicates present in dictionary\n",
    "    rna_scored = {} #Diciotnary to hold RNA-scored dataframes\n",
    "    targets = [] #list of SGE targets present\n",
    "    \n",
    "    #Does RNA scoring\n",
    "    for elem in target_reps:\n",
    "        df = rep_dict[elem] #Gets dataframe\n",
    "        df = df[~((df['RNAcount'] == 0) | (df['DNAcount'] == 0))].copy() #Drops rows with RNA/DNA count of 0\n",
    "\n",
    "        df = df.reset_index(drop = True) #Resets index\n",
    "         \n",
    "        DNAcount = df['DNAcount'].sum() #Gets total DNA counts\n",
    "        RNAcount = df['RNAcount'].sum() #Gets total RNA rounts\n",
    "\n",
    "        df['DNAfreq'] = df['DNAcount'] / DNAcount #Calculates DNA frequency\n",
    "        df['RNAfreq'] = df['RNAcount'] / RNAcount #Calculates RNA frequency\n",
    "\n",
    "        df['RNAscore'] = np.log2(df['RNAfreq']/ df['DNAfreq']) #Calculates RNA score using log2 fold change\n",
    "\n",
    "        rna_scored[df['target_rep'][0]] = df #RNA-scored dataframe is added to rna_scored dataframe\n",
    "\n",
    "        if df['target'][0] not in targets: #Appends SGE target names\n",
    "            targets.append(df['target'][0])\n",
    "        \n",
    "    \n",
    "    return rna_scored, targets\n",
    "        "
   ]
  },
  {
   "cell_type": "code",
   "execution_count": null,
   "id": "5",
   "metadata": {
    "jupyter": {
     "source_hidden": true
    }
   },
   "outputs": [],
   "source": [
    "def collapse_scores(rna_scored, targets): #Collapses RNA scores between replicates to a median\n",
    "\n",
    "    collapsed_scores = {} #Empty dictionary to hold dataframes with collapsed scores\n",
    "\n",
    "    for elem in targets: #Iterates through provided SGE targets\n",
    "        target_scores = [v for k, v in rna_scored.items() if elem in k] #Gets dicitonary elements in same SGE target\n",
    "\n",
    "        concat_scores = pd.concat(target_scores) #Concatenates all scores\n",
    "        concat_scores = concat_scores.drop(columns = ['target_rep','RNAcount', 'DNAcount', 'DNAfreq', 'RNAfreq']) #Drops columns no longer used\n",
    "\n",
    "        #Generates summary dataframe that has a median RNA score for each variant\n",
    "        summary_df = concat_scores.groupby('pos_id').agg({\n",
    "            'target': 'first',\n",
    "            'RNAscore': 'median'\n",
    "        }).reset_index()\n",
    "\n",
    "        #Tidys up collapsed RNA score df\n",
    "        summmary_df = summary_df.loc[:, ['target', 'pos_id', 'RNAscore']]\n",
    "        summary_df = summary_df.rename(columns = {'RNAscore': 'RNAscore_med'})\n",
    "        \n",
    "        collapsed_scores[elem] = summary_df #Appends collapsed RNA score df to dictionary\n",
    "\n",
    "    return collapsed_scores"
   ]
  },
  {
   "cell_type": "code",
   "execution_count": null,
   "id": "6",
   "metadata": {
    "jupyter": {
     "source_hidden": true
    }
   },
   "outputs": [],
   "source": [
    "def merge_dna(dict, gdna_scores): #This function merges the DNA SGE scores the median RNA scores for each variant\n",
    "    dna_scores = pd.read_excel(gdna_scores) #Reads DNA SGE Scores\n",
    "\n",
    "    dna_scores = dna_scores.drop(columns = ['chrom', 'pos', 'allele', 'R1_score', 'R2_score', 'R3_score', 'target']) #Drops these columns\n",
    "    all_rna = list(dict.values()) #Gets all dataframes stored in the RNAscore dictionary\n",
    "\n",
    "    df = pd.concat(all_rna) #Concatenates all RNAscore dataframes\n",
    "\n",
    "    merged = pd.merge(df, dna_scores, how = 'inner', on = 'pos_id') #Merges based on position ID\n",
    "\n",
    "    return merged"
   ]
  },
  {
   "cell_type": "code",
   "execution_count": null,
   "id": "7",
   "metadata": {
    "jupyter": {
     "source_hidden": true
    }
   },
   "outputs": [],
   "source": [
    "def visualize_scores(df):\n",
    "\n",
    "    scatter_all = alt.Chart(df).mark_circle().encode(\n",
    "        x = alt.X('snv_score', axis = alt.Axis(title = 'DNA Score')),\n",
    "        y = alt.Y('RNAscore_med', axis = alt.Axis(title = 'RNA Score')),\n",
    "        color = 'Consequence',\n",
    "        tooltip = [alt.Tooltip('target', title = 'SGE Target: '),\n",
    "                    alt.Tooltip('AAsub', title = 'AA Substitution: '),\n",
    "                   alt.Tooltip('snv_score', title = 'DNA Score: '),\n",
    "                   alt.Tooltip('RNAscore_med', title = 'RNA Score: ')\n",
    "                  ]\n",
    "    ).properties(\n",
    "        height = 400, \n",
    "        width = 600,\n",
    "        title = alt.TitleParams('RNA Score vs. DNA Score')\n",
    "    ).interactive()\n",
    "\n",
    "    scatter_all.display()"
   ]
  },
  {
   "cell_type": "code",
   "execution_count": null,
   "id": "8",
   "metadata": {},
   "outputs": [],
   "source": [
    "def main():\n",
    "    all_counts = read_counts(rna_count_folder, dna_count_folder)\n",
    "    rna_v_dna_plot(all_counts)\n",
    "    rna_scored, sge_targets = get_rna_scores(all_counts)\n",
    "    med_rna_scores = collapse_scores(rna_scored, sge_targets)\n",
    "    dna_rna_df = merge_dna(med_rna_scores, sge_score)\n",
    "    visualize_scores(dna_rna_df)"
   ]
  },
  {
   "cell_type": "code",
   "execution_count": null,
   "id": "9",
   "metadata": {},
   "outputs": [],
   "source": [
    "main()"
   ]
  },
  {
   "cell_type": "code",
   "execution_count": null,
   "id": "10",
   "metadata": {},
   "outputs": [],
   "source": []
  },
  {
   "cell_type": "code",
   "execution_count": null,
   "id": "11",
   "metadata": {},
   "outputs": [],
   "source": []
  }
 ],
 "metadata": {
  "kernelspec": {
   "display_name": "Python 3 (ipykernel)",
   "language": "python",
   "name": "python3"
  },
  "language_info": {
   "codemirror_mode": {
    "name": "ipython",
    "version": 3
   },
   "file_extension": ".py",
   "mimetype": "text/x-python",
   "name": "python",
   "nbconvert_exporter": "python",
   "pygments_lexer": "ipython3",
   "version": "3.11.8"
  }
 },
 "nbformat": 4,
 "nbformat_minor": 5
}
