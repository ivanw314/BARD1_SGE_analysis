{
 "cells": [
  {
   "cell_type": "code",
   "execution_count": null,
   "id": "0",
   "metadata": {},
   "outputs": [],
   "source": [
    "import pandas as pd\n",
    "import numpy as np\n",
    "import altair as alt"
   ]
  },
  {
   "cell_type": "code",
   "execution_count": null,
   "id": "1",
   "metadata": {},
   "outputs": [],
   "source": [
    "file = '/Users/ivan/Downloads/Orthogonal_BARD1_FunctionalAssays.xlsx'\n",
    "scores = '/Users/ivan/Desktop/AAsubstitutions.withSNVscores.allexons.tsv'"
   ]
  },
  {
   "cell_type": "code",
   "execution_count": null,
   "id": "2",
   "metadata": {},
   "outputs": [],
   "source": [
    "def read_scores(scores): #Reads SGE scores\n",
    "    df = pd.read_csv(scores,sep = '\\t') #reads TSV\n",
    "\n",
    "    df = df.loc[df['Consequence'] == 'missense_variant'] #pulls out missense variants only\n",
    "    df = df.drop(columns = ['chrom', 'pos', 'allele', 'R1_score', 'R2_score', 'R3_score']) #drops these unnecessary columns\n",
    "    df = df.rename(columns = {'snv_score' : 'snv_score_minmax'}) #renames score column\n",
    "    df = df.reset_index(drop = True) #resets index\n",
    "    \n",
    "    return df"
   ]
  },
  {
   "cell_type": "code",
   "execution_count": null,
   "id": "3",
   "metadata": {
    "jupyter": {
     "source_hidden": true
    }
   },
   "outputs": [],
   "source": [
    "def read_orthogonal(file): #Reads orthogonal assay file\n",
    "    \n",
    "    df = pd.read_excel(file) #reads excel\n",
    "    #df = df.drop(columns = ['Notes'])\n",
    "    df = df.rename(columns = {'Unnamed: 0': 'AAsub'}) #renames unnmaed \n",
    "    df['Orthogonal Assay'] = 'ok' #Adds column to hold orthogonal assay characterization\n",
    "\n",
    "    df = df.reset_index(drop = True)\n",
    "    return df"
   ]
  },
  {
   "cell_type": "code",
   "execution_count": null,
   "id": "4",
   "metadata": {
    "jupyter": {
     "source_hidden": true
    }
   },
   "outputs": [],
   "source": [
    "def merge(scores,orthogonal): #Merges dataframes\n",
    "    \n",
    "    df = pd.merge(scores, orthogonal, how = 'inner', on = 'AAsub') #merged on intersection of AA substitutions\n",
    "    df = df.drop_duplicates(subset = 'pos_id') #drops duplicate SNVs that can appear\n",
    "\n",
    "    return df"
   ]
  },
  {
   "cell_type": "code",
   "execution_count": null,
   "id": "5",
   "metadata": {
    "jupyter": {
     "source_hidden": true
    }
   },
   "outputs": [],
   "source": [
    "def characterize_orthogonal(df): #Determines how variant performed in orthogonal assay(s)\n",
    "\n",
    "    df = df.dropna(subset = ['pos_id']) #drops any variants without score\n",
    "\n",
    "    #This block iterates through the dataframe and assigns an orthogonal assay function to each variant\n",
    "    for i in range(len(df)):\n",
    "        row_raw = df.iloc[i].tolist() #pulls out the row of data and stores as list\n",
    "        row = [] #empty list to hold each element of the row\n",
    "\n",
    "        #Iterates through row_raw and converts to string and removes extra spaces\n",
    "        for elem in row_raw:\n",
    "            elem = str(elem)\n",
    "            row.append(elem.strip())\n",
    "\n",
    "        #Boolean tests for how that variant performed in orthogonal assay\n",
    "        if 'Abnormal' in row:\n",
    "            df.iloc[i, len(row) - 1] = 'Abnormal'\n",
    "        elif 'Intermediate' in row:\n",
    "            df.iloc[i, len(row) - 1] = 'Intermediate'\n",
    "        else:\n",
    "            df.iloc[i, len(row) - 1] = 'Normal'\n",
    "\n",
    "    #This chunk assigns what assay(s) were used to characterize each variant\n",
    "    df['Assay Type'] = np.nan #establishes an empty column\n",
    "    df['Assay Type'] = np.where((df['Adamovich2019_HDR'].notna()) | (df['Lee2015_HDR'].notna()),'HDR', df['Assay Type']) #Finds variants done by HDR \n",
    "    df['Assay Type'] = np.where((pd.isna(df['Adamovich2019_HDR'])) & (pd.notna(df['Adamovich2019_western'])),'Western Only', df['Assay Type']) #Finds variants done only by Western\n",
    "    df['Assay Type'] = np.where((pd.notna(df['Dai2021_brca1foci'])) & (pd.notna(df['Dai2021_bard1foci'])) & (pd.notna(df['Dai2021_Ubbinding'])), #finds variants done by nuclear foci and Ub binding\n",
    "                                'Nuclear Foci & Ub Binding', df['Assay Type'])\n",
    "    df['Assay Type'] = np.where((pd.notna(df['Dai2021_Ubbinding'])) & (pd.isna(df['Dai2021_brca1foci'])) & (pd.isna(df['Dai2021_bard1foci'])), #Finds Variants only done by Ub binding\n",
    "                                'Ub Binding Only', df['Assay Type'])\n",
    "    df['Assay Type'] = np.where(df['Witus2021_Ubactivity'].notna(),'Ub Activity', df['Assay Type']) #Finds variants done by Ub activity\n",
    "    \n",
    "    \n",
    "    return df\n",
    "        "
   ]
  },
  {
   "cell_type": "code",
   "execution_count": null,
   "id": "6",
   "metadata": {},
   "outputs": [],
   "source": [
    "def make_histogram(df): #Makes histogram that displays distribution of SGE scores for variants asayed by orthogonal assays\n",
    "    \n",
    "    bins = 50 #number of bins\n",
    "    scale = [-2,2] #scale\n",
    "    ticks = list(range(-2,2)) #tick marks\n",
    "    sorted = ['Normal','Abnormal','Intermediate'] #order for the legend\n",
    "\n",
    "    #df = df.loc[df['Assay Type'].isin(['HDR'])]\n",
    "    histogram = alt.Chart(df).mark_bar().encode(\n",
    "            alt.X('snv_score_minmax', axis = alt.Axis(values = ticks, title = 'SGE Score', labelFontSize = 16, titleFontSize = 20), bin = alt.Bin(maxbins = bins),\n",
    "             scale = alt.Scale(domain = scale)),\n",
    "            alt.Y('count()', axis = alt.Axis(title = 'Number of Variants', labelFontSize = 16, titleFontSize = 20)),\n",
    "            color = alt.Color('Orthogonal Assay:N', scale = alt.Scale(scheme = 'category10'), sort = sorted, legend = alt.Legend(titleFontSize = 16, labelFontSize = 14))\n",
    "    ).properties(\n",
    "        width = 800,\n",
    "        height = 400,\n",
    "        title = alt.TitleParams(text = 'SGE Scores for Variants with Orthogonal Assay Data', fontSize = 22)\n",
    "    )\n",
    "\n",
    "    histogram.display()"
   ]
  },
  {
   "cell_type": "code",
   "execution_count": null,
   "id": "7",
   "metadata": {},
   "outputs": [],
   "source": [
    "def make_dotplot(df): #Makes dotplot to show how variants in orthogonal assays scored in SGE\n",
    "\n",
    "    #df = df.loc[df['Assay Type'].isin(['HDR'])]\n",
    "    sorted = ['Normal','Abnormal','Intermediate'] #order for the legend\n",
    "\n",
    "    dotplot = alt.Chart(df).mark_point(size = 50).encode(\n",
    "        x = alt.X('snv_score_minmax', axis = alt.Axis(title = 'SGE Score', labelFontSize = 16, titleFontSize = 20)),\n",
    "        y = alt.Y('Orthogonal Assay:N', axis = alt.Axis(title = 'Orthogonal Assay', labelFontSize = 16, titleFontSize = 20)),\n",
    "        color = alt.Color('Orthogonal Assay:N', scale = alt.Scale(scheme = 'category10'),sort = sorted, legend = alt.Legend(titleFontSize = 16, labelFontSize = 14)),\n",
    "        shape = alt.Shape('Assay Type:N', legend = alt.Legend(labelLimit = 200, titleFontSize = 16, labelFontSize = 14)) #added line adds shape handling by assay type\n",
    "    ).properties(\n",
    "        width = 800,\n",
    "        height = 400,\n",
    "        title = alt.TitleParams(text = 'SGE Scores for Variants with Orthogonal Assay Data', fontSize = 22)\n",
    "    )\n",
    "\n",
    "    dotplot.display()"
   ]
  },
  {
   "cell_type": "code",
   "execution_count": null,
   "id": "8",
   "metadata": {},
   "outputs": [],
   "source": [
    "def main():\n",
    "    data = read_orthogonal(file)\n",
    "    sge_scores = read_scores(scores)\n",
    "    merged = merge(sge_scores,data)\n",
    "    ready_df = characterize_orthogonal(merged)\n",
    "    make_histogram(ready_df)\n",
    "    make_dotplot(ready_df)\n",
    "    #ready_df.to_excel('/Users/ivan/Desktop/20241205_BARD1_SGEvsOrthogonalAssays.xlsx', index = False)\n"
   ]
  },
  {
   "cell_type": "code",
   "execution_count": null,
   "id": "9",
   "metadata": {},
   "outputs": [],
   "source": [
    "main()"
   ]
  },
  {
   "cell_type": "code",
   "execution_count": null,
   "id": "10",
   "metadata": {},
   "outputs": [],
   "source": []
  },
  {
   "cell_type": "code",
   "execution_count": null,
   "id": "11",
   "metadata": {},
   "outputs": [],
   "source": []
  }
 ],
 "metadata": {
  "kernelspec": {
   "display_name": "Python 3 (ipykernel)",
   "language": "python",
   "name": "python3"
  },
  "language_info": {
   "codemirror_mode": {
    "name": "ipython",
    "version": 3
   },
   "file_extension": ".py",
   "mimetype": "text/x-python",
   "name": "python",
   "nbconvert_exporter": "python",
   "pygments_lexer": "ipython3",
   "version": "3.11.8"
  }
 },
 "nbformat": 4,
 "nbformat_minor": 5
}
