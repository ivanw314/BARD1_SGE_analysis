{
 "cells": [
  {
   "cell_type": "code",
   "execution_count": null,
   "id": "0",
   "metadata": {},
   "outputs": [],
   "source": [
    "import pandas as pd\n",
    "import altair as alt\n",
    "import numpy as np\n",
    "from scipy.stats import gaussian_kde"
   ]
  },
  {
   "cell_type": "code",
   "execution_count": null,
   "id": "1",
   "metadata": {},
   "outputs": [],
   "source": [
    "#file = '/Users/ivan/Downloads/20240828_BARD1_AllScores.xlsx'\n",
    "file = '/Users/ivan/Library/CloudStorage/OneDrive-UW/Research/Miscellaneous/BARD1_Figure_Data_Inputs/20240828_BARD1_AllScores_NEW_filtered_beta.xlsx'"
   ]
  },
  {
   "cell_type": "code",
   "execution_count": null,
   "id": "2",
   "metadata": {},
   "outputs": [],
   "source": [
    "def read_scores(file): #reads SGE scores\n",
    "    df = pd.read_excel(file)\n",
    "    df = df[['target','Consequence','snv_score_minmax']]\n",
    "    df.loc[df['Consequence'].isin(['stop_gained'])]\n",
    "\n",
    "    return df"
   ]
  },
  {
   "cell_type": "code",
   "execution_count": null,
   "id": "3",
   "metadata": {},
   "outputs": [],
   "source": [
    "def prep_data(df): #renames VEP consequence categories to be more human friendly\n",
    "    \n",
    "    df.loc[df['Consequence'] == 'missense_variant', 'Consequence'] = 'Missense'\n",
    "    df.loc[df['Consequence'] == 'synonymous_variant', 'Consequence'] = 'Synonymous'\n",
    "    df.loc[df['Consequence'] == 'intron_variant', 'Consequence'] = 'Intron'\n",
    "    df.loc[(df['Consequence'] == 'stop_gained') | (df['Consequence'] == 'stop_lost') | (df['Consequence'] == 'stop_retained_variant'), 'Consequence'] = 'Stop'\n",
    "    df.loc[(df['Consequence'] == 'splice_polypyrimidine_tract_variant') |(df['Consequence'] == 'splice_region_variant') | (df['Consequence'] == 'splice_acceptor_variant') | (df['Consequence'] == 'splice_donor_region_variant') | (df['Consequence'] == 'splice_donor_5th_base_variant') | (df['Consequence'] == 'splice_donor_variant'),'Consequence'] = 'Splice'\n",
    "    df.loc[df['Consequence'] == '3_prime_UTR_variant', 'Consequence'] = 'UTR'\n",
    "\n",
    "    return df\n"
   ]
  },
  {
   "cell_type": "code",
   "execution_count": null,
   "id": "4",
   "metadata": {},
   "outputs": [],
   "source": [
    "def compute_density(df, category): #used to calculate the density - mostly GPT code\n",
    "    values = df['snv_score_minmax'].values\n",
    "    density = gaussian_kde(values)\n",
    "    xs = np.linspace(values.min(), values.max(), 200)\n",
    "    ys = density(xs)\n",
    "    \n",
    "    return pd.DataFrame({'SGE_score': xs, 'density': ys, 'Consequence': category})\n"
   ]
  },
  {
   "cell_type": "code",
   "execution_count": null,
   "id": "5",
   "metadata": {},
   "outputs": [],
   "source": [
    "def make_plot(df,rawdf): #creates plot\n",
    "\n",
    "    df = pd.concat([df,rawdf], ignore_index = True) #concatenates the density data and raw data so that the ticks and density plots share a dataframe (required for graphing)\n",
    "\n",
    "    #Base creates the density plots using the density data \n",
    "    base = alt.Chart(df).mark_area(\n",
    "        interpolate = 'monotone',\n",
    "        line = True\n",
    "    ).encode(\n",
    "        x = alt.X('SGE_score:Q', axis = alt.Axis(title = 'SGE Score', titleFontSize = 20, labelFontSize = 16)),\n",
    "        y = alt.Y('density:Q', axis = None),\n",
    "        color = alt.Color('Consequence:N', legend = None)\n",
    "    )\n",
    "\n",
    "    #ticks creates the tick marks using the raw data\n",
    "    ticks = alt.Chart(df).mark_tick(\n",
    "        color = 'black',\n",
    "        thickness = 0.5,\n",
    "        size = 5\n",
    "    ).encode(\n",
    "        x = alt.X('snv_score_minmax:Q', title = ''),\n",
    "        y = alt.value(77.5)\n",
    "    )\n",
    "\n",
    "    #Plots are layered\n",
    "    combined_plot = alt.layer(ticks, base).properties(\n",
    "        width = 1000,\n",
    "        height = 75\n",
    "    )\n",
    "\n",
    "    #plots are faceted by consequence of the variant to yield the final plot (faceting requires that all data is in the same dataframe\n",
    "    plot = combined_plot.facet(\n",
    "        row = alt.Row('Consequence:N', title = 'Consequence'),\n",
    "        spacing = 2\n",
    "    ).properties(\n",
    "        title = '',\n",
    "        bounds = 'flush'\n",
    "    ).configure_facet(\n",
    "        spacing= 1\n",
    "    ).configure_header(\n",
    "        titleFontSize = 20,\n",
    "        labelFontSize = 16\n",
    "    ).configure_title(\n",
    "        anchor='start'\n",
    "    ).configure_axis(\n",
    "        grid=False\n",
    "    ).configure_view(\n",
    "        stroke = None\n",
    "    )\n",
    "    \n",
    "    plot.show()"
   ]
  },
  {
   "cell_type": "code",
   "execution_count": null,
   "id": "6",
   "metadata": {},
   "outputs": [],
   "source": [
    "def main():\n",
    "    alt.data_transformers.disable_max_rows()\n",
    "    data = read_scores(file)\n",
    "    relabeled_data = prep_data(data)\n",
    "    density_data = pd.concat([compute_density(relabeled_data[relabeled_data['Consequence'] == category], category)\n",
    "                          for category in relabeled_data['Consequence'].unique()])\n",
    "    #print(density_data)\n",
    "\n",
    "    #Outlier QC block\n",
    "    #test = relabeled_data.loc[relabeled_data['Consequence'].isin(['Intron'])]\n",
    "    #test = test.loc[test['snv_score_minmax'] < 0.5]\n",
    "    #print(test, len(test))\n",
    "    \n",
    "    make_plot(density_data,relabeled_data)\n",
    "    \n",
    "    "
   ]
  },
  {
   "cell_type": "code",
   "execution_count": null,
   "id": "7",
   "metadata": {},
   "outputs": [],
   "source": [
    "main()"
   ]
  },
  {
   "cell_type": "code",
   "execution_count": null,
   "id": "8",
   "metadata": {},
   "outputs": [],
   "source": []
  }
 ],
 "metadata": {
  "kernelspec": {
   "display_name": "Python 3 (ipykernel)",
   "language": "python",
   "name": "python3"
  },
  "language_info": {
   "codemirror_mode": {
    "name": "ipython",
    "version": 3
   },
   "file_extension": ".py",
   "mimetype": "text/x-python",
   "name": "python",
   "nbconvert_exporter": "python",
   "pygments_lexer": "ipython3",
   "version": "3.11.8"
  }
 },
 "nbformat": 4,
 "nbformat_minor": 5
}
