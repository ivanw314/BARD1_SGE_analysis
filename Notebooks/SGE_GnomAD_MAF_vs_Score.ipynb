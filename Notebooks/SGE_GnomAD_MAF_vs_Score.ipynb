{
 "cells": [
  {
   "cell_type": "code",
   "execution_count": null,
   "id": "0",
   "metadata": {},
   "outputs": [],
   "source": [
    "import pandas as pd\n",
    "import matplotlib.pyplot as plt\n",
    "import altair as alt\n",
    "import numpy as np\n",
    "import matplotlib.patches as mpatches"
   ]
  },
  {
   "cell_type": "code",
   "execution_count": null,
   "id": "1",
   "metadata": {},
   "outputs": [],
   "source": [
    "gnom_path = '/Users/ivan/Library/CloudStorage/OneDrive-UW/Research/Miscellaneous/BARD1_Figure_Data_Inputs/20240905_BARD1_gnomADv4.1.0_SNVs.xlsx'\n",
    "scores = '/Users/ivan/Library/CloudStorage/OneDrive-UW/Research/Miscellaneous/BARD1_Figure_Data_Inputs/20240828_BARD1_AllScores.xlsx'\n"
   ]
  },
  {
   "cell_type": "code",
   "execution_count": null,
   "id": "2",
   "metadata": {},
   "outputs": [],
   "source": [
    "def read_gnomAD(gnomAD_path):\n",
    "    unfiltered = pd.read_excel(gnomAD_path)\n",
    "    filtered = unfiltered[['gnomAD ID', 'Allele Frequency']]\n",
    "    return filtered"
   ]
  },
  {
   "cell_type": "code",
   "execution_count": null,
   "id": "3",
   "metadata": {},
   "outputs": [],
   "source": [
    "def rewrite(df):\n",
    "    for i in range(len(df)):\n",
    "        df.loc[df['gnomAD ID'] == df['gnomAD ID'][i], 'gnomAD ID'] = df['gnomAD ID'][i][2:11] + ':' + df['gnomAD ID'][i][14]\n",
    "    return df"
   ]
  },
  {
   "cell_type": "code",
   "execution_count": null,
   "id": "4",
   "metadata": {
    "jupyter": {
     "source_hidden": true
    }
   },
   "outputs": [],
   "source": [
    "def add_scores(df, scores):\n",
    "    scores = pd.read_excel(scores)\n",
    "    sge_scores = scores[['pos_id','Consequence','snv_score_minmax']]\n",
    "    df['snv_score_minmax'] = np.nan\n",
    "    df['Consequence'] = ''\n",
    "\n",
    "    \n",
    "    gnomad_vars = []\n",
    "    for i in range(len(df)):\n",
    "        gnomad_vars.append(df['gnomAD ID'][i])\n",
    "    gnomad_scores = sge_scores[sge_scores['pos_id'].isin(gnomad_vars)]\n",
    "    new_index = []\n",
    "    for i in range(len(gnomad_scores)):\n",
    "        new_index.append(i)\n",
    "    gnomad_scores = gnomad_scores.reset_index(drop = True)\n",
    "    gnomad_scores.index = new_index\n",
    "    \n",
    "    df_filter = []\n",
    "    \n",
    "    for i in range(len(gnomad_scores)):\n",
    "        df_filter.append(gnomad_scores['pos_id'][i])\n",
    "        \n",
    "    df_filtered = df[df['gnomAD ID'].isin(df_filter)]\n",
    "    df_filtered = df_filtered.reset_index(drop = True)\n",
    "    df_filtered.index = new_index\n",
    "\n",
    "    for i in range(len(df_filtered)):\n",
    "        pos = df_filtered['gnomAD ID'][i]\n",
    "        score_df = gnomad_scores.loc[gnomad_scores['pos_id'] == pos, ['Consequence','snv_score_minmax']]\n",
    "        new_index = [0]\n",
    "        score_df = score_df.reset_index(drop = True)\n",
    "        score_df.index = new_index\n",
    "        score = score_df['snv_score_minmax'][0]\n",
    "        consequence = score_df['Consequence'][0]\n",
    "        df_filtered.loc[df_filtered['gnomAD ID'] == pos, 'snv_score_minmax'] = score\n",
    "        df_filtered.loc[df_filtered['gnomAD ID'] == pos, 'Consequence'] = consequence\n",
    "    \n",
    "    return df_filtered"
   ]
  },
  {
   "cell_type": "code",
   "execution_count": null,
   "id": "5",
   "metadata": {
    "jupyter": {
     "source_hidden": true
    }
   },
   "outputs": [],
   "source": [
    "def graph(df):\n",
    "    grouped_colormap = {'synonymous_variant': 'Synonymous / Intronic', \n",
    "                        'intron_variant': 'Synonymous / Intronic',\n",
    "                        'missense_variant': 'Missense', \n",
    "                        'stop_gained': 'Stop Gained',\n",
    "                        'stop_lost': 'Stop Lost / Retained',\n",
    "                        'stop_retained_variant': 'Stop Lost / Retained',\n",
    "                        'splice_polypyrimidine_tract_variant': 'Splice',\n",
    "                        'splice_region_variant': 'Splice',\n",
    "                        'splice_acceptor_variant': 'Splice',\n",
    "                        'splice_donor_5th_base_variant': 'Splice',\n",
    "                        'splice_donor_region_variant': 'Splice',\n",
    "                        'splice_donor_variant': 'Splice',\n",
    "                        '3_prime_UTR_variant': 'UTR'}\n",
    "\n",
    "    colors1 = {'Synonymous / Intronic': 'b',\n",
    "              'Missense': 'y',\n",
    "              'Stop Gained': 'r',\n",
    "              'Stop Lost / Retained': 'g',\n",
    "              'Splice': 'm',\n",
    "              'UTR': 'c'}\n",
    "         \n",
    "    \n",
    "    df['Consequence'] = df['Consequence'].map(grouped_colormap)\n",
    "\n",
    "    graph = alt.Chart(df).mark_point().encode(\n",
    "        x=alt.X('snv_score_minmax', axis=alt.Axis(title='SGE Score', labelFontSize = 16, titleFontSize = 16)),\n",
    "        y = alt.Y('Allele Frequency', axis = alt.Axis(grid = False, labelFontSize = 16, titleFontSize = 16), scale = alt.Scale(type = 'log')),\n",
    "        color = alt.Color('Consequence', legend = alt.Legend(titleFontSize = 16, labelFontSize = 14))\n",
    "    ).properties(\n",
    "        width = 487.2,\n",
    "        height = 238,\n",
    "        title = alt.TitleParams( text = 'gnomAD Allele Frequency vs. SGE Scores' + ' (n = ' + str(len(df)) + ')', fontSize = 22)\n",
    "    )\n",
    "\n",
    "    graph.show()"
   ]
  },
  {
   "cell_type": "code",
   "execution_count": null,
   "id": "6",
   "metadata": {},
   "outputs": [],
   "source": [
    "def main():\n",
    "    filt = read_gnomAD(gnom_path)\n",
    "    rewritten = rewrite(filt)\n",
    "    test = add_scores(rewritten, scores)\n",
    "    \n",
    "    graph(test)\n"
   ]
  },
  {
   "cell_type": "code",
   "execution_count": null,
   "id": "7",
   "metadata": {},
   "outputs": [],
   "source": [
    "main()"
   ]
  },
  {
   "cell_type": "code",
   "execution_count": null,
   "id": "8",
   "metadata": {},
   "outputs": [],
   "source": []
  }
 ],
 "metadata": {
  "kernelspec": {
   "display_name": "Python 3 (ipykernel)",
   "language": "python",
   "name": "python3"
  },
  "language_info": {
   "codemirror_mode": {
    "name": "ipython",
    "version": 3
   },
   "file_extension": ".py",
   "mimetype": "text/x-python",
   "name": "python",
   "nbconvert_exporter": "python",
   "pygments_lexer": "ipython3",
   "version": "3.11.8"
  }
 },
 "nbformat": 4,
 "nbformat_minor": 5
}
