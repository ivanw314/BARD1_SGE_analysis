{
 "cells": [
  {
   "cell_type": "code",
   "execution_count": null,
   "id": "0",
   "metadata": {},
   "outputs": [],
   "source": [
    "import pandas as pd\n",
    "import altair as alt"
   ]
  },
  {
   "cell_type": "code",
   "execution_count": null,
   "id": "1",
   "metadata": {},
   "outputs": [],
   "source": [
    "read_depth = '/Users/ivan/Desktop/CRISPResso_dev_outputs/20250123_BARD1_NormReadDepth.tsv'\n",
    "gsp_input_file = '/Users/ivan/Desktop/CRISPResso_dev_outputs/deletion_inputs.xlsx'"
   ]
  },
  {
   "cell_type": "code",
   "execution_count": null,
   "id": "2",
   "metadata": {},
   "outputs": [],
   "source": [
    "def read_input(file):\n",
    "    input_params = pd.read_excel(file) #Reads input file\n",
    "\n",
    "\n",
    "    return input_params"
   ]
  },
  {
   "cell_type": "code",
   "execution_count": null,
   "id": "3",
   "metadata": {
    "jupyter": {
     "source_hidden": true
    }
   },
   "outputs": [],
   "source": [
    "def read_read_depth(file,input_params):\n",
    "    raw_df = pd.read_csv(file, sep = '\\t')\n",
    "\n",
    "    raw_df = raw_df.loc[raw_df['day'].isin(['D13'])]\n",
    "\n",
    "    targets = input_params['target'].tolist()\n",
    "\n",
    "    df = raw_df.loc[raw_df['target'].isin(targets)]\n",
    "\n",
    "\n",
    "    i = 0\n",
    "    cds = []\n",
    "    while i < len(input_params):\n",
    "        cds_start = input_params['coding_start'][i]\n",
    "        cds_end = input_params['coding_end'][i]\n",
    "        for j in range(cds_start, cds_end + 1):\n",
    "            if j not in cds:\n",
    "                cds.append(j)\n",
    "            \n",
    "        i += 1\n",
    "\n",
    "\n",
    "    df = df.loc[df['pos'].isin(cds)]\n",
    "    df = df.reset_index(drop = True)\n",
    "    \n",
    "    return df"
   ]
  },
  {
   "cell_type": "code",
   "execution_count": null,
   "id": "4",
   "metadata": {},
   "outputs": [],
   "source": [
    "def process_read_depth(df):\n",
    "\n",
    "    grouped = df.groupby('pos')\n",
    "\n",
    "    median_depth = df.groupby('pos').agg({\n",
    "    'normdepth': 'median',\n",
    "    'target': 'first'\n",
    "    }).reset_index()\n",
    "\n",
    "    print(median_depth)\n",
    "    \n",
    "    cds_pos = []\n",
    "\n",
    "    for i in range(len(median_depth)):\n",
    "        cds_pos.append(i+1)\n",
    "\n",
    "    cds_pos = cds_pos[::-1]\n",
    "    #median_depth = median_depth.drop(columns = ['offset'])\n",
    "\n",
    "    median_depth['CDSpos'] = cds_pos\n",
    "    median_depth = median_depth.rename(columns = {'normdepth': 'median_depth'})\n",
    "\n",
    "    \n",
    "    print(median_depth)\n",
    "    return median_depth"
   ]
  },
  {
   "cell_type": "code",
   "execution_count": null,
   "id": "5",
   "metadata": {},
   "outputs": [],
   "source": [
    "def graph_median_depth(df):\n",
    "\n",
    "    plot =  alt.Chart(df).mark_line(point = True).encode(\n",
    "        x = alt.X('CDSpos', axis = alt.Axis(title = 'CDS Position')),\n",
    "        y = alt.Y('median_depth', axis = alt.Axis(title = 'Median Normalized Depth')),\n",
    "        color = alt.Color('target', legend = alt.Legend(title = 'SGE Region')),\n",
    "        tooltip = [alt.Tooltip('target', title = 'SGE Target: '),\n",
    "                   alt.Tooltip('CDSpos', title = 'CDS Position: '),\n",
    "                   alt.Tooltip('median_depth', title = 'Median Normalized Depth: ')]\n",
    "    ).properties(\n",
    "        width = 600, \n",
    "        height = 400,\n",
    "    ).interactive()\n",
    "    \n",
    "    plot.display()"
   ]
  },
  {
   "cell_type": "code",
   "execution_count": null,
   "id": "6",
   "metadata": {},
   "outputs": [],
   "source": [
    "def main():\n",
    "    input_params = read_input(gsp_input_file)\n",
    "    all_reps_depth = read_read_depth(read_depth,input_params)\n",
    "    collapsed_depth = process_read_depth(all_reps_depth)\n",
    "    graph_median_depth(collapsed_depth)"
   ]
  },
  {
   "cell_type": "code",
   "execution_count": null,
   "id": "7",
   "metadata": {},
   "outputs": [],
   "source": [
    "main()"
   ]
  },
  {
   "cell_type": "code",
   "execution_count": null,
   "id": "8",
   "metadata": {},
   "outputs": [],
   "source": []
  }
 ],
 "metadata": {
  "kernelspec": {
   "display_name": "Python 3 (ipykernel)",
   "language": "python",
   "name": "python3"
  },
  "language_info": {
   "codemirror_mode": {
    "name": "ipython",
    "version": 3
   },
   "file_extension": ".py",
   "mimetype": "text/x-python",
   "name": "python",
   "nbconvert_exporter": "python",
   "pygments_lexer": "ipython3",
   "version": "3.11.8"
  }
 },
 "nbformat": 4,
 "nbformat_minor": 5
}
