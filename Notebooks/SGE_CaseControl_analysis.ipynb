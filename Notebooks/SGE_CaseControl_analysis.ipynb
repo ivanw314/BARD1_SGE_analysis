{
 "cells": [
  {
   "cell_type": "code",
   "execution_count": null,
   "id": "0",
   "metadata": {},
   "outputs": [],
   "source": [
    "import pandas as pd\n",
    "import altair as alt"
   ]
  },
  {
   "cell_type": "code",
   "execution_count": null,
   "id": "1",
   "metadata": {},
   "outputs": [],
   "source": [
    "#Functional Class Cutoffs\n",
    "path_max = 0.689682159032362 \n",
    "benign_min = 0.807231141721117\n",
    "\n",
    "sge = '../Data/20250122_BARD1_SGEscores_wAAsub.xlsx'\n",
    "cc = '/Users/ivan/Downloads/7_genes_for_Starita_02282025_hg38.xlsx'"
   ]
  },
  {
   "cell_type": "code",
   "execution_count": null,
   "id": "2",
   "metadata": {},
   "outputs": [],
   "source": [
    "def read_data(sge, cc): #Reads all data\n",
    "    sge = pd.read_excel(sge) #Reads SGE data\n",
    "    sge = sge.drop(columns = ['R1_score', 'R2_score', 'R3_score']) #Drops replicate score columns\n",
    "    \n",
    "    cc = pd.read_excel(cc) #Reads case-control data\n",
    "    cc = cc[cc['CAVA_GENE'].isin(['BARD1'])] #Filters only for BARD1\n",
    "    cc = cc[['Classification', '#CHROM', 'REF', 'ALT', 'CAVA_GENE', 'CAVA_CSN', 'CAVA_SO', 'Sample_ID', 'CaseControl','hg38_start']].copy() #Keeps necessary columns\n",
    "\n",
    "    return sge, cc"
   ]
  },
  {
   "cell_type": "code",
   "execution_count": null,
   "id": "3",
   "metadata": {},
   "outputs": [],
   "source": [
    "def classify_vars(sge, path_max, benign_min):\n",
    "    sge['Classification'] = None\n",
    "\n",
    "    sge.loc[sge['snv_score'] <= path_max, 'Classification'] = 'NF'\n",
    "    sge.loc[sge['snv_score'] >= benign_min, 'Classification'] = 'F'\n",
    "    sge.loc[sge['Classification'] == None, 'Classification'] = 'I'\n",
    "\n",
    "    sge_nf = sge[sge['Classification'].isin(['NF'])]\n",
    "    sge_func = sge[sge['Classification'].isin(['F'])]\n",
    "    \n",
    "    return sge_func, sge_nf"
   ]
  },
  {
   "cell_type": "code",
   "execution_count": null,
   "id": "4",
   "metadata": {},
   "outputs": [],
   "source": [
    "def process_cc(cc): #Adds Position ID column to case-control data and splits into cases and controls\n",
    "    cc['pos_id'] = None #Creates emtpy pos_id column\n",
    "\n",
    "    cc['hg38_start'] = cc['hg38_start'].astype(str) #Sets hg38 coordinates as str data type\n",
    "    cc['pos_id'] = cc['hg38_start'] + ':' + cc['ALT'] #Creates position ID\n",
    "\n",
    "    cc_control = cc[cc['CaseControl'].isin(['Control'])] #Creates control df\n",
    "    cc_case = cc[cc['CaseControl'].isin(['Case'])] #creates case df\n",
    "\n",
    "    return cc_control, cc_case"
   ]
  },
  {
   "cell_type": "code",
   "execution_count": null,
   "id": "5",
   "metadata": {},
   "outputs": [],
   "source": [
    "def analyze(controls, cases, sge_func, sge_nf):\n",
    "    control_val = len(controls)\n",
    "    cases_val = len(cases)\n",
    "\n",
    "    controls_nf = pd.merge(controls, sge_nf, on = 'pos_id', how = 'inner')\n",
    "    control_nf_val = len(controls_nf)\n",
    "    control_nf_odds = control_nf_val / control_val\n",
    "\n",
    "    controls_func = pd.merge(controls, sge_func, on = 'pos_id', how = 'inner')\n",
    "    control_func_val = len(controls_func)\n",
    "    control_func_odds = control_func_val / control_val\n",
    "    \n",
    "    print(control_nf_odds, control_func_odds)\n",
    "\n",
    "\n",
    "    cases_nf = pd.merge(cases, sge_nf, on = 'pos_id', how = 'inner')\n",
    "    cases_nf_val = len(cases_nf)\n",
    "    cases_nf_odds = cases_nf_val / cases_val\n",
    "\n",
    "    cases_func = pd.merge(cases, sge_func, on = 'pos_id', how = 'inner')\n",
    "    cases_func_val = len(cases_func)\n",
    "    cases_func_odds = cases_func_val / cases_val\n",
    "    \n",
    "    print(cases_nf_odds, cases_func_odds)"
   ]
  },
  {
   "cell_type": "code",
   "execution_count": null,
   "id": "6",
   "metadata": {},
   "outputs": [],
   "source": [
    "def main():\n",
    "    sge_df, cc_df = read_data(sge, cc)\n",
    "    sge_func, sge_nf = classify_vars(sge_df, path_max, benign_min)\n",
    "    controls, cases = process_cc(cc_df)\n",
    "    analyze(controls, cases, sge_func, sge_nf)"
   ]
  },
  {
   "cell_type": "code",
   "execution_count": null,
   "id": "7",
   "metadata": {},
   "outputs": [],
   "source": [
    "main()"
   ]
  },
  {
   "cell_type": "code",
   "execution_count": null,
   "id": "8",
   "metadata": {},
   "outputs": [],
   "source": []
  }
 ],
 "metadata": {
  "kernelspec": {
   "display_name": "Python 3 (ipykernel)",
   "language": "python",
   "name": "python3"
  },
  "language_info": {
   "codemirror_mode": {
    "name": "ipython",
    "version": 3
   },
   "file_extension": ".py",
   "mimetype": "text/x-python",
   "name": "python",
   "nbconvert_exporter": "python",
   "pygments_lexer": "ipython3",
   "version": "3.11.8"
  }
 },
 "nbformat": 4,
 "nbformat_minor": 5
}
