{
 "cells": [
  {
   "cell_type": "code",
   "execution_count": null,
   "id": "0",
   "metadata": {},
   "outputs": [],
   "source": [
    "import pandas as pd\n",
    "import altair as alt"
   ]
  },
  {
   "cell_type": "code",
   "execution_count": null,
   "id": "1",
   "metadata": {},
   "outputs": [],
   "source": [
    "#Functional Class Cutoffs\n",
    "path_max = 0.689682159032362 \n",
    "benign_min = 0.807231141721117\n",
    "\n",
    "sge = '../Data/20250122_BARD1_SGEscores_wAAsub.xlsx'\n",
    "cc = '/Users/ivan/Downloads/7_genes_for_Starita_02282025_hg38.xlsx'"
   ]
  },
  {
   "cell_type": "code",
   "execution_count": null,
   "id": "2",
   "metadata": {},
   "outputs": [],
   "source": [
    "def read_data(sge, cc):\n",
    "    sge = pd.read_excel(sge)\n",
    "    sge = sge.drop(columns = ['R1_score', 'R2_score', 'R3_score'])\n",
    "    \n",
    "    cc = pd.read_excel(cc)\n",
    "    cc = cc[cc['CAVA_GENE'].isin(['BARD1'])]\n",
    "    cc = cc[['Classification', '#CHROM', 'REF', 'ALT', 'CAVA_GENE', \n",
    "\n",
    "    return sge, cc"
   ]
  },
  {
   "cell_type": "code",
   "execution_count": null,
   "id": "3",
   "metadata": {},
   "outputs": [],
   "source": [
    "def main():\n",
    "    sge_df, cc_df = read_data(sge, cc)\n",
    "\n",
    "    print(sge_df, cc_df)"
   ]
  },
  {
   "cell_type": "code",
   "execution_count": null,
   "id": "4",
   "metadata": {},
   "outputs": [],
   "source": [
    "main()"
   ]
  },
  {
   "cell_type": "code",
   "execution_count": null,
   "id": "5",
   "metadata": {},
   "outputs": [],
   "source": []
  }
 ],
 "metadata": {
  "kernelspec": {
   "display_name": "Python 3 (ipykernel)",
   "language": "python",
   "name": "python3"
  },
  "language_info": {
   "codemirror_mode": {
    "name": "ipython",
    "version": 3
   },
   "file_extension": ".py",
   "mimetype": "text/x-python",
   "name": "python",
   "nbconvert_exporter": "python",
   "pygments_lexer": "ipython3",
   "version": "3.11.8"
  }
 },
 "nbformat": 4,
 "nbformat_minor": 5
}
