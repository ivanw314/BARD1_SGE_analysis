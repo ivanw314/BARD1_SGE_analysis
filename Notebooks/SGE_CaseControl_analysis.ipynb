{
 "cells": [
  {
   "cell_type": "code",
   "execution_count": null,
   "id": "0",
   "metadata": {},
   "outputs": [],
   "source": [
    "import pandas as pd\n",
    "import altair as alt\n",
    "import numpy as np\n",
    "import statsmodels.api as sm\n",
    "from scipy import stats"
   ]
  },
  {
   "cell_type": "code",
   "execution_count": null,
   "id": "1",
   "metadata": {},
   "outputs": [],
   "source": [
    "#Functional Class Cutoffs\n",
    "path_max = 0.689682159032362 \n",
    "benign_min = 0.807231141721117\n",
    "\n",
    "sge = '../Data/20250122_BARD1_SGEscores_wAAsub.xlsx'\n",
    "cc = '/Users/ivan/Downloads/7_genes_for_Starita_02282025_hg38.xlsx'\n"
   ]
  },
  {
   "cell_type": "code",
   "execution_count": null,
   "id": "2",
   "metadata": {},
   "outputs": [],
   "source": [
    "def read_data(sge, cc): #Reads all data\n",
    "    sge = pd.read_excel(sge) #Reads SGE data\n",
    "    sge = sge.drop(columns = ['R1_score', 'R2_score', 'R3_score']) #Drops replicate score columns\n",
    "    \n",
    "    cc = pd.read_excel(cc) #Reads case-control data\n",
    "    cc = cc[cc['CAVA_GENE'].isin(['BARD1'])] #Filters only for BARD1\n",
    "    cc = cc[['Classification', '#CHROM', 'REF', 'ALT', 'CAVA_GENE', 'CAVA_CSN', 'CAVA_SO', 'Sample_AAF', 'Sample_ID', 'CaseControl','ER_status1', 'hg38_start']].copy() #Keeps necessary columns\n",
    "    cc = cc[cc['ER_status1'].isin([0, 777])] #ER negative cases only \n",
    "\n",
    "    return sge, cc"
   ]
  },
  {
   "cell_type": "code",
   "execution_count": null,
   "id": "3",
   "metadata": {},
   "outputs": [],
   "source": [
    "def classify_vars(sge, path_max, benign_min):\n",
    "    sge['Classification'] = None\n",
    "\n",
    "    #under development - trying to figure out which parameters are best\n",
    "\n",
    "    ard_brct = 'X4L|X5|X6|X7|X8|X9|X10|X11'\n",
    "    brct = 'X8|X9|X10|X11'\n",
    "    ard = 'X5|X6|X7'\n",
    "    ring = 'X1|X2|X3'\n",
    "\n",
    "    sge = sge[sge['Consequence'].isin(['missense_variant'])]\n",
    "    #sge = sge[~sge['Consequence'].isin(['synonymous_variant'])]\n",
    "    sge = sge[sge['target'].str.contains(ard_brct)]\n",
    "\n",
    "\n",
    "    #Classifies variants by GMM cutoffs\n",
    "    sge.loc[sge['snv_score'] <= path_max, 'Classification'] = 'NF'\n",
    "    sge.loc[sge['snv_score'] >= benign_min, 'Classification'] = 'F'\n",
    "    sge.loc[sge['Classification'] == None, 'Classification'] = 'I'\n",
    "\n",
    "    sge_nf = sge[sge['Classification'].isin(['NF'])]\n",
    "    sge_func = sge[sge['Classification'].isin(['F'])]\n",
    "\n",
    "    return sge, sge_func, sge_nf"
   ]
  },
  {
   "cell_type": "code",
   "execution_count": null,
   "id": "4",
   "metadata": {},
   "outputs": [],
   "source": [
    "def process_cc(cc): #Adds Position ID column to case-control data and splits into cases and controls\n",
    "    cc['pos_id'] = None #Creates emtpy pos_id column\n",
    "    cc = cc[cc['ALT'].str.len() == 1].copy()\n",
    "    cc['hg38_start'] = cc['hg38_start'].astype(str) #Sets hg38 coordinates as str data type\n",
    "    cc['pos_id'] = cc['hg38_start'] + ':' + cc['ALT'] #Creates position ID\n",
    "\n",
    "    cc_control = cc[cc['CaseControl'].isin(['Control'])] #Creates control df\n",
    "    cc_case = cc[cc['CaseControl'].isin(['Case'])] #creates case df\n",
    "\n",
    "    return cc, cc_control, cc_case"
   ]
  },
  {
   "cell_type": "code",
   "execution_count": null,
   "id": "5",
   "metadata": {},
   "outputs": [],
   "source": [
    "def analyze(cc, sge):\n",
    "    merged = pd.merge(cc, sge, on = 'pos_id', how = 'inner') #Merges case-control and SGE data\n",
    "    merged = merged.dropna(subset = ['Classification_y']) #drops any columsn without a classification\n",
    "    \n",
    "    contingency_tab = merged[['CaseControl', 'Classification_y']] #Creates dataframe for contingency table\n",
    "\n",
    "    contingency_tab = pd.crosstab(merged['CaseControl'], merged['Classification_y']) #Creates contingency table\n",
    "    contingency_tab = contingency_tab[contingency_tab.columns[::-1]] #Swaps NF and F columns in df\n",
    "    table_array = contingency_tab.values #Gets values from contingency table\n",
    "\n",
    "\n",
    "    oddsratio, p_value = stats.fisher_exact(table_array) #Tabulates odds-ratio and p-value from Fischer's exact test\n",
    "    table = sm.stats.Table2x2(table_array) #Generates confidence intervals\n",
    "    \n",
    "    result = table.summary() #Summary table with Odds and Risk ratios\n",
    "    display(contingency_tab) #Displays contingency table \n",
    "    display(result) #Displays summary stats\n",
    "    \n",
    "\n",
    "    \n",
    "    #Prints out summary stats\n",
    "    print(f\"Odds Ratio: {table.oddsratio:.2f}\")\n",
    "    print(f\"95% CI: ({table.oddsratio_confint()[0]:.2f}, {table.oddsratio_confint()[1]:.2f})\")\n",
    "    print(f\"P-value (Fisher's exact): {p_value:.4f}\")"
   ]
  },
  {
   "cell_type": "code",
   "execution_count": null,
   "id": "6",
   "metadata": {},
   "outputs": [],
   "source": [
    "def main():\n",
    "    sge_df, cc_df = read_data(sge, cc)\n",
    "    sge_all,sge_func, sge_nf = classify_vars(sge_df, path_max, benign_min)\n",
    "    cc_all, controls, cases = process_cc(cc_df)\n",
    "    analyze(cc_all, sge_all)"
   ]
  },
  {
   "cell_type": "code",
   "execution_count": null,
   "id": "7",
   "metadata": {},
   "outputs": [],
   "source": [
    "main()"
   ]
  },
  {
   "cell_type": "code",
   "execution_count": null,
   "id": "8",
   "metadata": {},
   "outputs": [],
   "source": []
  }
 ],
 "metadata": {
  "kernelspec": {
   "display_name": "Python 3 (ipykernel)",
   "language": "python",
   "name": "python3"
  },
  "language_info": {
   "codemirror_mode": {
    "name": "ipython",
    "version": 3
   },
   "file_extension": ".py",
   "mimetype": "text/x-python",
   "name": "python",
   "nbconvert_exporter": "python",
   "pygments_lexer": "ipython3",
   "version": "3.11.8"
  }
 },
 "nbformat": 4,
 "nbformat_minor": 5
}
