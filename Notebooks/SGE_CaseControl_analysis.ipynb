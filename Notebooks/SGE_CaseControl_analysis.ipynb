{
 "cells": [
  {
   "cell_type": "code",
   "execution_count": null,
   "id": "0",
   "metadata": {},
   "outputs": [],
   "source": [
    "import pandas as pd\n",
    "import altair as alt"
   ]
  },
  {
   "cell_type": "code",
   "execution_count": null,
   "id": "1",
   "metadata": {},
   "outputs": [],
   "source": [
    "#Functional Class Cutoffs\n",
    "path_max = 0.689682159032362 \n",
    "benign_min = 0.807231141721117\n",
    "\n",
    "sge = '../Data/20250122_BARD1_SGEscores_wAAsub.xlsx'\n",
    "cc = '/Users/ivan/Downloads/7_genes_for_Starita_02282025_hg38.xlsx'"
   ]
  },
  {
   "cell_type": "code",
   "execution_count": null,
   "id": "2",
   "metadata": {},
   "outputs": [],
   "source": [
    "def read_data(sge, cc): #Reads all data\n",
    "    sge = pd.read_excel(sge) #Reads SGE data\n",
    "    sge = sge.drop(columns = ['R1_score', 'R2_score', 'R3_score']) #Drops replicate score columns\n",
    "    \n",
    "    cc = pd.read_excel(cc) #Reads case-control data\n",
    "    cc = cc[cc['CAVA_GENE'].isin(['BARD1'])] #Filters only for BARD1\n",
    "    cc = cc[['Classification', '#CHROM', 'REF', 'ALT', 'CAVA_GENE', 'CAVA_CSN', 'CAVA_SO', 'Sample_ID', 'CaseControl','hg38_start']].copy() #Keeps necessary columns\n",
    "\n",
    "    return sge, cc"
   ]
  },
  {
   "cell_type": "code",
   "execution_count": null,
   "id": "3",
   "metadata": {},
   "outputs": [],
   "source": [
    "def process_cc(cc): #Adds Position ID column to case-control data and splits into cases and controls\n",
    "    cc['pos_id'] = None #Creates emtpy pos_id column\n",
    "\n",
    "    cc['hg38_start'] = cc['hg38_start'].astype(str) #Sets hg38 coordinates as str data type\n",
    "    cc['pos_id'] = cc['hg38_start'] + ':' + cc['ALT'] #Creates position ID\n",
    "\n",
    "    cc_control = cc[cc['CaseControl'].isin(['Control'])] #Creates control df\n",
    "    cc_case = cc[cc['CaseControl'].isin(['Case'])] #creates case df\n",
    "\n",
    "    return cc_control, cc_case"
   ]
  },
  {
   "cell_type": "code",
   "execution_count": null,
   "id": "4",
   "metadata": {},
   "outputs": [],
   "source": [
    "def main():\n",
    "    sge_df, cc_df = read_data(sge, cc)\n",
    "    controls, cases = process_cc(cc_df)\n",
    "\n",
    "    display(controls)\n",
    "    display(cases)"
   ]
  },
  {
   "cell_type": "code",
   "execution_count": null,
   "id": "5",
   "metadata": {},
   "outputs": [],
   "source": [
    "main()"
   ]
  },
  {
   "cell_type": "code",
   "execution_count": null,
   "id": "6",
   "metadata": {},
   "outputs": [],
   "source": []
  }
 ],
 "metadata": {
  "kernelspec": {
   "display_name": "Python 3 (ipykernel)",
   "language": "python",
   "name": "python3"
  },
  "language_info": {
   "codemirror_mode": {
    "name": "ipython",
    "version": 3
   },
   "file_extension": ".py",
   "mimetype": "text/x-python",
   "name": "python",
   "nbconvert_exporter": "python",
   "pygments_lexer": "ipython3",
   "version": "3.11.8"
  }
 },
 "nbformat": 4,
 "nbformat_minor": 5
}
