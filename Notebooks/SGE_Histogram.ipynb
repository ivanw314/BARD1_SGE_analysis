{
 "cells": [
  {
   "cell_type": "code",
   "execution_count": null,
   "id": "0",
   "metadata": {},
   "outputs": [],
   "source": [
    "import pandas as pd\n",
    "import altair as alt"
   ]
  },
  {
   "cell_type": "code",
   "execution_count": null,
   "id": "1",
   "metadata": {},
   "outputs": [],
   "source": [
    "file = '../Data/20250122_BARD1_SGEscores_wAAsub.xlsx' #SGE Data File"
   ]
  },
  {
   "cell_type": "code",
   "execution_count": null,
   "id": "2",
   "metadata": {},
   "outputs": [],
   "source": [
    "def read_scores(file): #reads score from excel file\n",
    "    df = pd.read_excel(file)\n",
    "    df = df[['target','Consequence','snv_score']]\n",
    "\n",
    "    df = df.loc[(df['snv_score'] <= 2) & (df['snv_score'] > -2)] #Needed to control outliers in the data - due to extreme outliers, the plot will not display correctly\n",
    "\n",
    "    return df"
   ]
  },
  {
   "cell_type": "code",
   "execution_count": null,
   "id": "3",
   "metadata": {},
   "outputs": [],
   "source": [
    "def prep_data(df): #Renames categories to be nicer\n",
    "    df.loc[df['Consequence'].str.contains('missense'), 'Consequence'] = 'Missense'\n",
    "    df.loc[df['Consequence'] == 'synonymous_variant', 'Consequence'] = 'Synonymous'\n",
    "    df.loc[df['Consequence'] == 'intron_variant', 'Consequence'] = 'Intron'\n",
    "    df.loc[(df['Consequence'] == 'stop_gained') | (df['Consequence'] == 'stop_lost') | (df['Consequence'] == 'stop_retained_variant'), 'Consequence'] = 'Stop'\n",
    "    df.loc[df['Consequence'].str.contains('splice'), 'Consequence'] = 'Splice'\n",
    "    df.loc[(df['Consequence'] == '3_prime_UTR_variant'), 'Consequence'] = \"3' UTR\"\n",
    "    df.loc[(df['Consequence'] == '5_prime_UTR_variant'), 'Consequence'] = \"5' UTR\"\n",
    "    df.loc[df['Consequence'] == 'start_lost', 'Consequence'] = 'Start'\n",
    "\n",
    "    return df\n"
   ]
  },
  {
   "cell_type": "code",
   "execution_count": null,
   "id": "4",
   "metadata": {},
   "outputs": [],
   "source": [
    "def make_histogram(df): #makes histogram\n",
    "\n",
    "    alt.data_transformers.disable_max_rows() #gets rid of max data length problem\n",
    "\n",
    "    length = str(len(df)) #gets length of data\n",
    "\n",
    "    final_tital = 'Distribution of BARD1 SGE Scores ' + '(n = ' + length + ')' #used to build title\n",
    "    bins = 50 #number of bins\n",
    "    scale = [-2,2] #scale\n",
    "    ticks = list(range(-2,2)) #tick marks\n",
    "\n",
    "    sorted = [\"Intron\", \"Missense\", \"Synonymous\", \"Stop\", \"Splice\", \"Start\", \"5' UTR\", \"3' UTR\"] #order for the legend\n",
    "  \n",
    "\n",
    "    \n",
    "    histogram = alt.Chart(df).mark_bar().encode(\n",
    "            alt.X('snv_score', axis = alt.Axis(values = ticks, title = 'SGE Score', labelFontSize = 16, titleFontSize = 20), bin = alt.Bin(maxbins = bins),\n",
    "             scale = alt.Scale(domain = scale)),\n",
    "            alt.Y('count()', axis = alt.Axis(title = 'Number of Variants', labelFontSize = 16, titleFontSize = 20)),\n",
    "            color = alt.Color('Consequence:N', scale = alt.Scale(scheme = 'category10'), sort = sorted, legend = alt.Legend(titleFontSize = 16, labelFontSize = 14))\n",
    "    ).properties(\n",
    "        width = 800,\n",
    "        height = 400,\n",
    "        title = alt.TitleParams(text = final_tital, fontSize = 22)\n",
    "    )\n",
    "\n",
    "    histogram.display()\n"
   ]
  },
  {
   "cell_type": "code",
   "execution_count": null,
   "id": "5",
   "metadata": {},
   "outputs": [],
   "source": [
    "def main():\n",
    "    data = read_scores(file)\n",
    "    to_graph = prep_data(data)\n",
    "    #to_graph.to_excel('test.xlsx')\n",
    "    make_histogram(to_graph)"
   ]
  },
  {
   "cell_type": "code",
   "execution_count": null,
   "id": "6",
   "metadata": {},
   "outputs": [],
   "source": [
    "main()"
   ]
  },
  {
   "cell_type": "code",
   "execution_count": null,
   "id": "7",
   "metadata": {},
   "outputs": [],
   "source": []
  }
 ],
 "metadata": {
  "kernelspec": {
   "display_name": "Python 3 (ipykernel)",
   "language": "python",
   "name": "python3"
  },
  "language_info": {
   "codemirror_mode": {
    "name": "ipython",
    "version": 3
   },
   "file_extension": ".py",
   "mimetype": "text/x-python",
   "name": "python",
   "nbconvert_exporter": "python",
   "pygments_lexer": "ipython3",
   "version": "3.11.8"
  }
 },
 "nbformat": 4,
 "nbformat_minor": 5
}
