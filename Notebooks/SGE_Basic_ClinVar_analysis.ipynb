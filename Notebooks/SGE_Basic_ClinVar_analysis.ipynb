{
 "cells": [
  {
   "cell_type": "code",
   "execution_count": null,
   "id": "0",
   "metadata": {},
   "outputs": [],
   "source": [
    "import pandas as pd\n",
    "import matplotlib as plt\n",
    "import altair as alt\n",
    "import numpy as np\n",
    "from sklearn.model_selection import train_test_split\n",
    "from sklearn.linear_model import LogisticRegression\n",
    "from sklearn.metrics import precision_recall_curve, roc_curve, auc, average_precision_score\n",
    "from sklearn.preprocessing import OneHotEncoder, LabelEncoder, StandardScaler\n",
    "from sklearn.compose import ColumnTransformer\n",
    "from sklearn.pipeline import Pipeline\n",
    "from scipy.stats import gaussian_kde"
   ]
  },
  {
   "cell_type": "code",
   "execution_count": null,
   "id": "1",
   "metadata": {},
   "outputs": [],
   "source": [
    "#ClinVar data file\n",
    "file = '../Data/20250128_BARD1_ClinVar_SNVsOnly_1Starplus.txt'\n",
    "\n",
    "#SGE data file\n",
    "sge = '../Data/20250122_BARD1_PillarProjectScores_filtered.xlsx'\n",
    "\n",
    "#gnomAD Data File\n",
    "gnomAD = '../Data/20240905_BARD1_gnomADv4.1.0_SNVs.xlsx'\n",
    "\n",
    "#GMM Cutoffs\n",
    "path_max = 0.689682159032362 \n",
    "benign_min = 0.807231141721117"
   ]
  },
  {
   "cell_type": "code",
   "execution_count": null,
   "id": "2",
   "metadata": {},
   "outputs": [],
   "source": [
    "def read_data(file):\n",
    "    df = pd.read_csv(file, delimiter='\\t') #reads ClinVar tabular .txt \n",
    "    df = df[['Name','Protein change','GRCh38Chromosome','GRCh38Location','Germline classification']] #pulls useful columns\n",
    "    df = df.dropna(subset = ['GRCh38Location']) #Drops variants without genomic coordinate\n",
    "    df.GRCh38Location = df.GRCh38Location.astype(int) #Sets coordinates to integer data type\n",
    "    df['Base Change'] = None #preps for next function\n",
    "    return df"
   ]
  },
  {
   "cell_type": "code",
   "execution_count": null,
   "id": "3",
   "metadata": {
    "jupyter": {
     "source_hidden": true
    }
   },
   "outputs": [],
   "source": [
    "def get_pair(base): #ClinVar gives base changes on negative sense strand, SGE pos_id on positive sense\n",
    "    if base == 'A':\n",
    "        return 'T'\n",
    "    elif base == 'T':\n",
    "        return 'A'\n",
    "    elif base == 'C':\n",
    "        return 'G'\n",
    "    else:\n",
    "        return 'C'"
   ]
  },
  {
   "cell_type": "code",
   "execution_count": null,
   "id": "4",
   "metadata": {
    "jupyter": {
     "source_hidden": true
    }
   },
   "outputs": [],
   "source": [
    "def prep_sge(sge): #reads SGE data\n",
    "    df = pd.read_excel(sge)\n",
    "    df = df[['target', 'Consequence', 'pos_id', 'snv_score']]\n",
    "\n",
    "    df = df.loc[(df['snv_score'] > -3) & (df['snv_score'] < 2)]\n",
    "    return df"
   ]
  },
  {
   "cell_type": "code",
   "execution_count": null,
   "id": "5",
   "metadata": {
    "jupyter": {
     "source_hidden": true
    }
   },
   "outputs": [],
   "source": [
    "def get_base_changes(df):\n",
    "    #creates pos_id in format of SGE data file\n",
    "    \n",
    "    k = 0\n",
    "    while k < len(df):\n",
    "        var = df['Name'][k]\n",
    "        coord = str(df['GRCh38Location'][k])\n",
    "        k += 1\n",
    "        i = 0\n",
    "        j = 3\n",
    "        while j < (len(var) + 1):\n",
    "            test_str = var[i:j]\n",
    "            j += 1\n",
    "            i += 1\n",
    "            sense_base = get_pair(test_str[2])\n",
    "            if test_str[1] == '>':\n",
    "                change = coord + \":\" + sense_base\n",
    "                df.loc[df['Name'] == var, 'Base Change'] = change\n",
    "\n",
    "    return df"
   ]
  },
  {
   "cell_type": "code",
   "execution_count": null,
   "id": "6",
   "metadata": {
    "jupyter": {
     "source_hidden": true
    }
   },
   "outputs": [],
   "source": [
    "def merge(clin,sge, nf_cutoff, func_cutoff):\n",
    "    #merges ClinVar dataframe and SGE dataframe based on shared pos_id\n",
    "    clin_data = clin\n",
    "    sge_data = sge\n",
    "    df = pd.merge(clin_data, sge_data, left_on = 'Base Change', right_on = 'pos_id', how = 'inner')\n",
    "    df['Function Type'] = None\n",
    "\n",
    "    #categorizes each variant based on SGE score \n",
    "    path_max = nf_cutoff #SGE scores used to create each score group\n",
    "    benign_min = func_cutoff\n",
    "    \n",
    "    i = 0 \n",
    "    while i < len(df):\n",
    "        score = df['snv_score'][i]\n",
    "        id = df['pos_id'][i]\n",
    "        if score < path_max:\n",
    "            df.loc[df['pos_id'] == id, 'Function Type'] = 'Pathogenic'\n",
    "        elif path_max < score < benign_min:\n",
    "            df.loc[df['pos_id'] == id, 'Function Type'] = 'Intermediate'\n",
    "        elif score > benign_min:\n",
    "            df.loc[df['pos_id'] == id, 'Function Type'] = 'Benign'\n",
    "        i += 1\n",
    "\n",
    "    #makes dataframe nicer    \n",
    "    df = df[['Name', 'Protein change', 'Germline classification', 'Base Change', 'Consequence', 'target', 'snv_score', 'Function Type']]\n",
    "    reordered = ['target', 'Name', 'Protein change', 'Base Change', 'Consequence', 'snv_score', 'Germline classification', 'Function Type']\n",
    "    df = df[reordered]\n",
    "\n",
    "    df.rename(columns = {'target': 'target', 'snv_score': 'SGE Score'}, inplace = True)\n",
    "    #df.to_excel('20240801_BARD1SGE_ClinVar_vars.xlsx')\n",
    "    return df"
   ]
  },
  {
   "cell_type": "code",
   "execution_count": null,
   "id": "7",
   "metadata": {
    "jupyter": {
     "source_hidden": true
    }
   },
   "outputs": [],
   "source": [
    "def histogram(df, nf_cutoff, func_cutoff): #creates histograms showing distribution of scores for variants in ClinVar\n",
    "\n",
    "    nf_line = alt.Chart(pd.DataFrame({'x': [nf_cutoff]})).mark_rule(color = 'red').encode(\n",
    "        x = 'x')\n",
    "\n",
    "    func_lin = alt.Chart(pd.DataFrame({'x': [func_cutoff]})).mark_rule(color = 'blue').encode(\n",
    "        x = 'x')\n",
    "    \n",
    "    #sets bins and domain of scale for histograms\n",
    "    bins = 50\n",
    "    scale = [-3,2]\n",
    "    ticks = list(range(-3,3))\n",
    "    \n",
    "    #extracts P/LP and B/LB variants from ClinVar data\n",
    "    plp = ['Benign', 'Benign/Likely benign', 'Likely benign', 'Pathogenic', 'Likely pathogenic', 'Pathogenic/Likely pathogenic']\n",
    "    p_df = df.loc[df['Germline classification'].isin(plp)]\n",
    "    p_df.loc[p_df['Germline classification'] == 'Benign/Likely benign','Germline classification'] = 'Likely benign' \n",
    "    p_df.loc[p_df['Germline classification'] == 'Pathogenic/Likely pathogenic', 'Germline classification'] = 'Likely pathogenic'\n",
    "    #p_df.to_excel('output_path.xlsx')\n",
    "    #Creates histogram showing distribution of P/LP and B/LB variants in ClinVar vs. SGE score\n",
    "    plp_hist = alt.Chart(p_df).mark_bar().encode(\n",
    "        alt.X('SGE Score', axis = alt.Axis(values = ticks, title = 'SGE Score', labelFontSize = 16, titleFontSize = 20), bin = alt.Bin(maxbins = bins),\n",
    "             scale = alt.Scale(domain = scale)),\n",
    "        alt.Y('count()', axis = alt.Axis(title = 'Number of Variants', labelFontSize = 16, titleFontSize = 20)),\n",
    "        color = alt.Color('Germline classification:N')\n",
    "    ).properties(\n",
    "        width = 553,\n",
    "        height = 322,\n",
    "        title = alt.TitleParams(text = 'P/LP and B/LB Variants vs. SGE Score' + ' (n= ' + str(len(p_df)) + ')', fontSize = 22)\n",
    "    )\n",
    "    plp_hist = nf_line + func_lin + plp_hist\n",
    "    plp_hist.show()\n",
    "\n",
    "    #extracts VUS and conflicting data from ClinVar\n",
    "    vus = ['Uncertain significance', 'Conflicting classifications of pathogenicity']\n",
    "    v_df = df.loc[df['Germline classification'].isin(vus)]\n",
    "    v_df.loc[v_df['Germline classification'] == 'Conflicting classifications of pathogenicity', 'Germline classification'] = 'Conflicting'\n",
    "    #v_df.to_excel('output.xlsx')\n",
    "    #create histogram showing distribution of VUS and conflicting variants in ClinVar vs. SGE score\n",
    "    vus_hist = alt.Chart(v_df).mark_bar().encode(\n",
    "            alt.X('SGE Score', axis = alt.Axis(values = ticks, title = 'SGE Score', labelFontSize = 16, titleFontSize = 20), bin = alt.Bin(maxbins = bins),\n",
    "                 scale = alt.Scale(domain = scale)),\n",
    "            alt.Y('count()', axis = alt.Axis(title = 'Number of Variants',labelFontSize = 16, titleFontSize = 20)),\n",
    "            color = alt.Color('Germline classification:N')\n",
    "        ).properties(\n",
    "            width = 553,\n",
    "            height = 322,\n",
    "            title = alt.TitleParams( text = 'VUS and Conflicting Variants vs. SGE Score' + ' (n=' + str(len(v_df)) + ')', fontSize = 22)\n",
    "        )\n",
    "\n",
    "    vus_hist = nf_line + func_lin + vus_hist\n",
    "    vus_hist.show()\n",
    "\n"
   ]
  },
  {
   "cell_type": "code",
   "execution_count": null,
   "id": "8",
   "metadata": {
    "jupyter": {
     "source_hidden": true
    }
   },
   "outputs": [],
   "source": [
    "def merge_gnomAD(sge_df, clinvar_df, file): #Merges gnomAD variants with SGE scores for gnomAD track in the ridgeline plot\n",
    "    raw_gnomAD = pd.read_excel(file) #Reads gnomAD output\n",
    "\n",
    "    for i in range(len(raw_gnomAD)):\n",
    "        raw_gnomAD.loc[raw_gnomAD['gnomAD ID'] == raw_gnomAD['gnomAD ID'][i], 'gnomAD ID'] = raw_gnomAD['gnomAD ID'][i][2:11] + ':' + raw_gnomAD['gnomAD ID'][i][14]\n",
    "\n",
    "    gnomad_vars = raw_gnomAD[['gnomAD ID']] #extracts the gnomAD ID column\n",
    "    gnomad_vars = gnomad_vars.copy() #set copy\n",
    "    gnomad_vars['Germline classification'] = 'gnomAD' #Sets 'classification' to gnomAD\n",
    "\n",
    "    gnomad_sge = pd.merge(sge_df, gnomad_vars, left_on = 'pos_id', right_on = 'gnomAD ID', how = 'inner') #merges with SGE\n",
    "    gnomad_sge = gnomad_sge.rename(columns = {'snv_score': 'SGE Score'}) #Renames for same columnn names as the clinvar-SGE df\n",
    "\n",
    "    all_merged = pd.concat([gnomad_sge, clinvar_df]) #concatenates\n",
    "\n",
    "    return all_merged\n",
    "    "
   ]
  },
  {
   "cell_type": "code",
   "execution_count": null,
   "id": "9",
   "metadata": {
    "jupyter": {
     "source_hidden": true
    }
   },
   "outputs": [],
   "source": [
    "def rename_germline(df): #Renames ClinVar germline classifications to fit on plot better\n",
    "\n",
    "    df = df.copy() #so the original df isn't overwritten\n",
    "    \n",
    "    #renames germline classification categories\n",
    "    df.loc[(df['Germline classification'] == 'Pathogenic') | (df['Germline classification'] == 'Likely pathogenic'), 'Germline classification'] = 'P/LP'\n",
    "    df.loc[(df['Germline classification'] == 'Benign') | (df['Germline classification'] == 'Likely benign'), 'Germline classification' ] = 'B/LB'\n",
    "    df.loc[df['Germline classification'] == 'Uncertain significance', 'Germline classification' ] = 'VUS'\n",
    "    df.loc[df['Germline classification'] == 'Conflicting classifications of pathogenicity', 'Germline classification' ] = 'Conflicting'\n",
    "    df.loc[df['Germline classification'] == 'Benign/Likely benign', 'Germline classification'] = 'B/LB'\n",
    "    df.loc[df['Germline classification'] == 'Pathogenic/Likely pathogenic', 'Germline classification'] = 'P/LP'\n",
    "\n",
    "    return df"
   ]
  },
  {
   "cell_type": "code",
   "execution_count": null,
   "id": "10",
   "metadata": {
    "jupyter": {
     "source_hidden": true
    }
   },
   "outputs": [],
   "source": [
    "def compute_density(df, category): #used to calculate the density - mostly GPT code\n",
    "    \n",
    "    if len(df) == 0:\n",
    "        print(f\"Warning: No data found for category {category}\")\n",
    "        return None\n",
    "        \n",
    "    values = df['SGE Score'].values\n",
    "\n",
    "    valid_values = values[~np.isnan(values)]\n",
    "    if len(valid_values) <= 1:\n",
    "        print(f\"Warning: Not enough valid data points for category {category}\")\n",
    "        return None\n",
    "\n",
    "    density = gaussian_kde(valid_values)\n",
    "    xs = np.linspace(valid_values.min(), valid_values.max(), 200)\n",
    "    ys = density(xs)\n",
    "    \n",
    "    return pd.DataFrame({'SGE_score': xs, 'density': ys, 'Germline classification': category})\n"
   ]
  },
  {
   "cell_type": "code",
   "execution_count": null,
   "id": "11",
   "metadata": {
    "jupyter": {
     "source_hidden": true
    }
   },
   "outputs": [],
   "source": [
    "def ridgeline(df,rawdf): #creates ridgeline plot\n",
    "\n",
    "    \n",
    "\n",
    "\n",
    "    df = pd.concat([df,rawdf], ignore_index = True) #concatenates the density data and raw data so that the ticks and density plots share a dataframe (required for graphing)\n",
    "    df = df.dropna(subset  = ['Germline classification'])\n",
    "\n",
    "    #Base creates the density plots using the density data \n",
    "    base = alt.Chart(df).mark_area(\n",
    "        interpolate = 'monotone',\n",
    "        line = True\n",
    "    ).encode(\n",
    "        x = alt.X('SGE_score:Q', axis = alt.Axis(title = 'SGE Score', titleFontSize = 20, labelFontSize = 16)),\n",
    "        y = alt.Y('density:Q', axis = None),\n",
    "        color = alt.Color('Germline classification:N', legend = None)\n",
    "    )\n",
    "\n",
    "    #ticks creates the tick marks using the raw data\n",
    "    ticks = alt.Chart(df).mark_tick(\n",
    "        color = 'black',\n",
    "        thickness = 1,\n",
    "        size = 5\n",
    "    ).encode(\n",
    "        x = alt.X('SGE Score:Q', title = ''),\n",
    "        y = alt.value(77.5), \n",
    "        tooltip = [alt.Tooltip('target', title = 'SGE Region: '),\n",
    "                   alt.Tooltip('Consequence', title = 'Consequence: '),\n",
    "                   alt.Tooltip('SGE Score:Q', title = 'Score: ')]\n",
    "    )\n",
    "\n",
    "    #Plots are layered\n",
    "    combined_plot = alt.layer(ticks, base).properties(\n",
    "        width = 1000,\n",
    "        height = 75\n",
    "    )\n",
    "\n",
    "    #plots are faceted by consequence of the variant to yield the final plot (faceting requires that all data is in the same dataframe\n",
    "    plot = combined_plot.facet(\n",
    "        row = alt.Row('Germline classification:N', title = '', sort = ['P/LP', 'B/LB', 'gnomAD', 'VUS', 'Conflicting']),\n",
    "        spacing = 2\n",
    "    ).properties(\n",
    "        title = '',\n",
    "        bounds = 'flush'\n",
    "    ).configure_facet(\n",
    "        spacing= 1\n",
    "    ).configure_header(\n",
    "        titleFontSize = 20,\n",
    "        labelFontSize = 16\n",
    "    ).configure_title(\n",
    "        anchor='start'\n",
    "    ).configure_axis(\n",
    "        grid=False\n",
    "    ).configure_view(\n",
    "        stroke = None\n",
    "    )\n",
    "    \n",
    "    plot.show()"
   ]
  },
  {
   "cell_type": "code",
   "execution_count": null,
   "id": "12",
   "metadata": {
    "jupyter": {
     "source_hidden": true
    }
   },
   "outputs": [],
   "source": [
    "def roc_df(df): #makes dataframe needed for ROC\n",
    "    #filter out non P/LP and B/LB variants\n",
    "    nv_df = df[['Base Change','Germline classification', 'Function Type']]\n",
    "    non_vus_list = ['Benign', 'Benign/Likely benign', 'Likely benign', 'Pathogenic', 'Likely pathogenic', 'Pathogenic/Likely pathogenic']\n",
    "    nv_df = nv_df.loc[nv_df['Germline classification'].isin(non_vus_list)]\n",
    "\n",
    "    #creates columns in dataframe needed for ROC analysis\n",
    "    nv_df = nv_df.copy()\n",
    "    nv_df['Germline Num'] = np.nan\n",
    "    nv_df['SGE Num'] = np.nan\n",
    "    nv_df['target'] = np.nan\n",
    "\n",
    "    #reindexes new df\n",
    "    new_index = []\n",
    "    for i in range(len(nv_df)):\n",
    "            new_index.append(i)\n",
    "    nv_df = nv_df.reset_index(drop = True)\n",
    "    nv_df.index = new_index\n",
    "\n",
    "    #assigns 1s and 0s to each variant type - both for ClinVar classification and SGE classification\n",
    "    nv_df.loc[(nv_df['Germline classification'] == 'Benign') | (nv_df['Germline classification'] == 'Likely benign') | (nv_df['Germline classification'] == 'Benign/Likely benign') , 'Germline Num'] = 1\n",
    "    nv_df.loc[(nv_df['Germline classification'] == 'Pathogenic') | (nv_df['Germline classification'] == 'Likely pathogenic') | (nv_df['Germline classification'] == 'Pathogenic/Likely pathogenic') , 'Germline Num'] = 0\n",
    "\n",
    "    nv_df.loc[nv_df['Function Type'] == 'Pathogenic', 'SGE Num'] = 0\n",
    "    nv_df.loc[(nv_df['Function Type'] == 'Benign') | (nv_df['Function Type'] == 'Intermediate'), 'SGE Num'] = 1\n",
    "\n",
    "    #determines if ClinVar an SGE agree (1 - yes, 0 - no)\n",
    "    i = 0\n",
    "    while i < len(nv_df):\n",
    "        clin = nv_df['Germline Num'][i]\n",
    "        sge = nv_df['SGE Num'][i]\n",
    "        id = nv_df['Base Change'][i]\n",
    "\n",
    "        if clin == sge:\n",
    "            nv_df.loc[nv_df['Base Change'] == id, 'target'] = 1\n",
    "        else:\n",
    "            nv_df.loc[nv_df['Base Change'] == id, 'target'] = 0\n",
    "\n",
    "        i += 1\n",
    "    \n",
    "    \n",
    "    return nv_df\n",
    "    "
   ]
  },
  {
   "cell_type": "code",
   "execution_count": null,
   "id": "13",
   "metadata": {
    "jupyter": {
     "source_hidden": true
    }
   },
   "outputs": [],
   "source": [
    "def roc_qc(df):\n",
    "    i = 0\n",
    "    concor = 0\n",
    "    total = 0\n",
    "    while i < len(df):\n",
    "        test = df['target'][i]\n",
    "        if test == 1:\n",
    "            concor += 1\n",
    "            total += 1\n",
    "        else:\n",
    "            total += 1\n",
    "        i += 1\n",
    "    print('Cocordant: ' + str(concor))\n",
    "    print('Discordant: ' + str(total-concor))"
   ]
  },
  {
   "cell_type": "code",
   "execution_count": null,
   "id": "14",
   "metadata": {
    "jupyter": {
     "source_hidden": true
    }
   },
   "outputs": [],
   "source": [
    "def concor_stats(df):\n",
    "    i = 0\n",
    "    plp_total = 0\n",
    "    plp_concor = 0\n",
    "    blb_total = 0\n",
    "    blb_concor = 0\n",
    "    while i < len(df):\n",
    "        test = df['target'][i]\n",
    "        type = df['Germline classification'][i]\n",
    "        if type == 'Pathogenic' or type == 'Likely pathogenic' or type == 'Pathogenic/Likely pathogenic':\n",
    "            plp_total += 1\n",
    "            if test == 1:\n",
    "                plp_concor += 1\n",
    "                i += 1\n",
    "            else:\n",
    "                i += 1\n",
    "        elif type == 'Benign' or type == 'Likely benign' or type == 'Benign/Likely benign':\n",
    "            blb_total += 1\n",
    "            if test == 1:\n",
    "                blb_concor += 1\n",
    "                i += 1\n",
    "            else: \n",
    "                i += 1\n",
    "    total = plp_total + blb_total\n",
    "    total_concor = plp_concor + blb_concor\n",
    "    \n",
    "    print(str(total_concor),' of ', str(total), ' variants concordant')\n",
    "    print(str(plp_concor), ' of ', str(plp_total), ' P/LP variants concordant')\n",
    "    print(str(blb_concor), ' of ', str(blb_total), ' B/LB variants concordant')"
   ]
  },
  {
   "cell_type": "code",
   "execution_count": null,
   "id": "15",
   "metadata": {
    "jupyter": {
     "source_hidden": true
    }
   },
   "outputs": [],
   "source": [
    "def roc(df):\n",
    "    X = df[['Germline classification', 'Function Type']]\n",
    "    y = df['target']\n",
    "\n",
    "\n",
    "    # One-hot encode categorical features\n",
    "    column_transformer = ColumnTransformer(\n",
    "    transformers=[\n",
    "        ('cat', OneHotEncoder(), ['Germline classification', 'Function Type'])\n",
    "    ],\n",
    "    remainder='passthrough'\n",
    "    )\n",
    "\n",
    "    pipeline = Pipeline(steps=[\n",
    "    ('preprocessor', column_transformer),\n",
    "    ('classifier', LogisticRegression())\n",
    "    ])\n",
    "\n",
    "    # Split the dataset into training and testing sets\n",
    "    X_train, X_test, y_train, y_test = train_test_split(X, y, test_size=0.3, random_state=42)\n",
    "\n",
    "    print(\"Training set size:\", X_train.shape)\n",
    "    print(\"Testing set size:\", X_test.shape)\n",
    "    \n",
    "    # Train a classification model\n",
    "    pipeline.fit(X_train, y_train)\n",
    "\n",
    "    \n",
    "    # Predict probabilities for the test set\n",
    "    y_prob = pipeline.predict_proba(X_test)[:, 1]\n",
    "    \n",
    "    # Compute ROC curve and AUC\n",
    "    precision, recall, thresholds = precision_recall_curve(y_test,y_prob)\n",
    "    pr_auc = auc(recall, precision)\n",
    "    print('AUC: ', str(pr_auc))\n",
    "    average_precision = average_precision_score(y_test, y_prob)\n",
    "    # Plot the ROC curve\n",
    "    to_plot = pd.DataFrame({'Precision': precision, 'Recall': recall, 'Threshold': np.append(thresholds, 1)})\n",
    "\n",
    "    pr_chart = alt.Chart(to_plot).mark_line(color='darkorange').encode(\n",
    "    x=alt.X('Recall:Q', scale=alt.Scale(domain=[0, 1.05])),\n",
    "    y=alt.Y('Precision:Q', scale=alt.Scale(domain=[0, 1.05])),\n",
    "    tooltip=['Recall:Q', 'Precision:Q', 'Threshold:Q']\n",
    "    ).properties(\n",
    "    title=f'Precision-Recall Curve (AP = {average_precision:.2f})'\n",
    "    )\n",
    "\n",
    "    diagonal = alt.Chart(pd.DataFrame({'x': [0, 1], 'y': [0, 1]})).mark_line(strokeDash=[5, 5], color='navy').encode(\n",
    "    x='x',\n",
    "    y='y'\n",
    "    )\n",
    "    pr_chart.show()\n",
    "    #final = roc_chart + diagonal\n",
    "    #final.show()"
   ]
  },
  {
   "cell_type": "code",
   "execution_count": null,
   "id": "16",
   "metadata": {},
   "outputs": [],
   "source": [
    "def main():\n",
    "    alt.data_transformers.disable_max_rows()\n",
    "    clin_data = read_data(file)\n",
    "    print('ClinVar Variants: ', len(clin_data))\n",
    "    with_base = get_base_changes(clin_data)\n",
    "    #print(len(clin_data.loc[(clin_data['Germline classification'] == 'Benign') | (clin_data['Germline classification'] == 'Likely benign') |(clin_data['Germline classification'] == 'Benign/Likely benign')]))\n",
    "    sge_data = prep_sge(sge)\n",
    "    clinvar_data = merge(with_base, sge_data,path_max, benign_min)\n",
    "    data = merge_gnomAD(sge_data, clinvar_data, gnomAD)\n",
    "    germ_relabeled = rename_germline(data)\n",
    "    df_roc= roc_df(data)\n",
    "    concor_stats(df_roc)\n",
    "    histogram(clinvar_data, path_max, benign_min)\n",
    "\n",
    "    density_data = pd.concat([compute_density(germ_relabeled[germ_relabeled['Germline classification'] == category], category)\n",
    "                          for category in germ_relabeled['Germline classification'].unique()])\n",
    "    \n",
    "    ridgeline(density_data, germ_relabeled)\n",
    "    #roc(df_roc)\n",
    "    #roc_qc(df_roc)\n",
    "    "
   ]
  },
  {
   "cell_type": "code",
   "execution_count": null,
   "id": "17",
   "metadata": {},
   "outputs": [],
   "source": [
    "main()"
   ]
  },
  {
   "cell_type": "code",
   "execution_count": null,
   "id": "18",
   "metadata": {},
   "outputs": [],
   "source": []
  },
  {
   "cell_type": "code",
   "execution_count": null,
   "id": "19",
   "metadata": {},
   "outputs": [],
   "source": []
  }
 ],
 "metadata": {
  "kernelspec": {
   "display_name": "Python 3 (ipykernel)",
   "language": "python",
   "name": "python3"
  },
  "language_info": {
   "codemirror_mode": {
    "name": "ipython",
    "version": 3
   },
   "file_extension": ".py",
   "mimetype": "text/x-python",
   "name": "python",
   "nbconvert_exporter": "python",
   "pygments_lexer": "ipython3",
   "version": "3.11.8"
  }
 },
 "nbformat": 4,
 "nbformat_minor": 5
}
