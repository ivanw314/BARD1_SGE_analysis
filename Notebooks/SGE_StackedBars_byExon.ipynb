{
 "cells": [
  {
   "cell_type": "code",
   "execution_count": null,
   "id": "0",
   "metadata": {},
   "outputs": [],
   "source": [
    "import pandas as pd\n",
    "import altair as alt"
   ]
  },
  {
   "cell_type": "code",
   "execution_count": null,
   "id": "1",
   "metadata": {},
   "outputs": [],
   "source": [
    "#file = '/Users/ivan/Downloads/20240828_BARD1_AllScores.xlsx'\n",
    "file = '/Users/ivan/Downloads/20240828_BARD1_AllScores_noX4.xlsx' #no X4A-K file"
   ]
  },
  {
   "cell_type": "code",
   "execution_count": null,
   "id": "2",
   "metadata": {
    "jupyter": {
     "source_hidden": true
    }
   },
   "outputs": [],
   "source": [
    "def read_data(path):\n",
    "    df = pd.read_excel(path)\n",
    "    df = df[['target','Consequence','pos_id','snv_score_minmax']]\n",
    "\n",
    "    filtered_consequences = ['missense_variant','synonymous_variant','stop_gained','stop_lost','stop_retained_variant']\n",
    "    df = df.loc[df['Consequence'].isin(filtered_consequences)]\n",
    "\n",
    "    index = []\n",
    "    for i in range(len(df)):\n",
    "        index.append(i)\n",
    "    df = df.reset_index(drop = True)\n",
    "    df.index = index\n",
    "    \n",
    "    return df"
   ]
  },
  {
   "cell_type": "code",
   "execution_count": null,
   "id": "3",
   "metadata": {
    "jupyter": {
     "source_hidden": true
    }
   },
   "outputs": [],
   "source": [
    "def prep_data(df): #renames VEP consequence categories to be more human friendly\n",
    "    \n",
    "    df.loc[df['Consequence'] == 'missense_variant', 'Consequence'] = 'Missense'\n",
    "    df.loc[df['Consequence'] == 'synonymous_variant', 'Consequence'] = 'Synonymous'\n",
    "    #df.loc[df['Consequence'] == 'intron_variant', 'Consequence'] = 'Intron'\n",
    "    df.loc[(df['Consequence'] == 'stop_gained') | (df['Consequence'] == 'stop_lost') | (df['Consequence'] == 'stop_retained_variant'), 'Consequence'] = 'Stop'\n",
    "    #df.loc[(df['Consequence'] == 'splice_polypyrimidine_tract_variant') |(df['Consequence'] == 'splice_region_variant') | (df['Consequence'] == 'splice_acceptor_variant') | (df['Consequence'] == 'splice_donor_region_variant') | (df['Consequence'] == 'splice_donor_5th_base_variant') | (df['Consequence'] == 'splice_donor_variant'),'Consequence'] = 'Splice'\n",
    "    #df.loc[df['Consequence'] == '3_prime_UTR_variant', 'Consequence'] = 'UTR'\n",
    "\n",
    "    return df"
   ]
  },
  {
   "cell_type": "code",
   "execution_count": null,
   "id": "4",
   "metadata": {
    "jupyter": {
     "source_hidden": true
    }
   },
   "outputs": [],
   "source": [
    "def rewrite_targets(df):\n",
    "    \n",
    "    i = 0\n",
    "    while i < len(df):\n",
    "        target = df['target'][i] #gets SGE target\n",
    "        id = df['pos_id'][i]\n",
    "        split = target.split(\"_\") #splits SGE target name by _ and yields list with [Gene name, X(exon#)(region letter)]\n",
    "        x_format = split[1] #gives just the exon and SGE target\n",
    "\n",
    "        if x_format[1:3].isdigit(): #rewrites target for exon numbers greater than 9\n",
    "            exon = int(x_format[1:3])\n",
    "            df.loc[df['pos_id'] == id, 'target'] = exon\n",
    "        elif x_format[1].isdigit(): #rewrites target for exon numbers less than 9\n",
    "            exon = int(x_format[1])\n",
    "            df.loc[df['pos_id'] == id, 'target'] = exon\n",
    "\n",
    "        \n",
    "        i += 1\n",
    "\n",
    "    return df"
   ]
  },
  {
   "cell_type": "code",
   "execution_count": null,
   "id": "5",
   "metadata": {
    "jupyter": {
     "source_hidden": true
    }
   },
   "outputs": [],
   "source": [
    "def exon_stats(df):\n",
    "\n",
    "    exon_df_list = []\n",
    "    grouped_exons = df.groupby(['target','Consequence'])\n",
    "    for group_name, group_df in grouped_exons:\n",
    "        exon, var_type = group_name\n",
    "        scores = group_df['snv_score_minmax'].tolist()\n",
    "\n",
    "        non = 0 #counters for nonfunctional group\n",
    "\n",
    "        \n",
    "        for elem in scores: #groups scores \n",
    "            if elem < (0.6):\n",
    "                non += 1\n",
    "\n",
    "        non_per = (non / len(group_df)) * 100\n",
    "        same_per = (100 - non_per)\n",
    "        exon_non_df = pd.DataFrame({'Exon': exon, 'Consequence': var_type, 'Function Type': 'Nonfunctional', 'Percent': non_per}, index = [0])\n",
    "        exon_same_df = pd.DataFrame({'Exon': exon, 'Consequence': var_type, 'Function Type': 'Functional', 'Percent': same_per}, index = [0])\n",
    "            \n",
    "        exon_df = pd.concat([exon_non_df, exon_same_df])\n",
    "\n",
    "        exon_df_list.append(exon_df)\n",
    "\n",
    "    all_exons_df = pd.concat(exon_df_list)\n",
    "    \n",
    "    index = []\n",
    "    for i in range(len(all_exons_df)):\n",
    "        index.append(i)\n",
    "    all_exons_df = all_exons_df.reset_index(drop = True)\n",
    "    all_exons_df.index = index\n",
    "    \n",
    "    return all_exons_df"
   ]
  },
  {
   "cell_type": "code",
   "execution_count": null,
   "id": "6",
   "metadata": {
    "jupyter": {
     "source_hidden": true
    }
   },
   "outputs": [],
   "source": [
    "def good_luck_graph(df):\n",
    "\n",
    "    df = df.sort_values(by = ['Exon'])\n",
    "    #print(df)\n",
    "    chart = alt.Chart(df).mark_bar().encode(\n",
    "            x = 'Exon:O',\n",
    "            y = 'Percent',\n",
    "            color = 'Function Type'\n",
    "    ).facet(\n",
    "        column = 'Consequence:N'\n",
    "    )\n",
    "    chart.show()"
   ]
  },
  {
   "cell_type": "code",
   "execution_count": null,
   "id": "7",
   "metadata": {},
   "outputs": [],
   "source": [
    "def main():\n",
    "    data = read_data(file)\n",
    "    reannotated = prep_data(data)\n",
    "    num_exons = rewrite_targets(data)\n",
    "    all_stats = exon_stats(num_exons)\n",
    "    good_luck_graph(all_stats)"
   ]
  },
  {
   "cell_type": "code",
   "execution_count": null,
   "id": "8",
   "metadata": {},
   "outputs": [],
   "source": [
    "main()"
   ]
  },
  {
   "cell_type": "code",
   "execution_count": null,
   "id": "9",
   "metadata": {},
   "outputs": [],
   "source": []
  }
 ],
 "metadata": {
  "kernelspec": {
   "display_name": "Python 3 (ipykernel)",
   "language": "python",
   "name": "python3"
  },
  "language_info": {
   "codemirror_mode": {
    "name": "ipython",
    "version": 3
   },
   "file_extension": ".py",
   "mimetype": "text/x-python",
   "name": "python",
   "nbconvert_exporter": "python",
   "pygments_lexer": "ipython3",
   "version": "3.11.8"
  }
 },
 "nbformat": 4,
 "nbformat_minor": 5
}
