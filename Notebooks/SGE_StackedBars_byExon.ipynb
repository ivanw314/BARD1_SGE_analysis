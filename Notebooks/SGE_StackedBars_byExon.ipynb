{
 "cells": [
  {
   "cell_type": "code",
   "execution_count": null,
   "id": "0",
   "metadata": {},
   "outputs": [],
   "source": [
    "import pandas as pd\n",
    "import altair as alt"
   ]
  },
  {
   "cell_type": "code",
   "execution_count": null,
   "id": "1",
   "metadata": {},
   "outputs": [],
   "source": [
    "file = '../Data/20250122_BARD1_SGEscores_wAAsub.xlsx' #SGE score file\n",
    "\n",
    "#GMM Cutoffs\n",
    "path_max = 0.689682159032362 \n",
    "benign_min = 0.807231141721117"
   ]
  },
  {
   "cell_type": "code",
   "execution_count": null,
   "id": "2",
   "metadata": {
    "jupyter": {
     "source_hidden": true
    }
   },
   "outputs": [],
   "source": [
    "def read_data(path):\n",
    "    df = pd.read_excel(path) #Reads SGE score file\n",
    "    df = df[['target','Consequence','pos_id','snv_score']] #pulls out relevant columns in the dataframe\n",
    "\n",
    "    filtered_consequences = ['missense_variant','synonymous_variant','stop_gained'] #Focusing on these variant types only \n",
    "\n",
    "    filter_string = '|'.join(filtered_consequences) #Creates a string that can be used for filtering\n",
    " \n",
    "    df = df.loc[df['Consequence'].str.contains(filter_string)] #Uses filter_string to filter dataframe for variant types of interest only\n",
    "\n",
    "    df = df.reset_index(drop = True) #Resets index\n",
    "    \n",
    "    return df"
   ]
  },
  {
   "cell_type": "code",
   "execution_count": null,
   "id": "3",
   "metadata": {
    "jupyter": {
     "source_hidden": true
    }
   },
   "outputs": [],
   "source": [
    "def prep_data(df): #renames VEP consequence categories to be more human friendly\n",
    "    \n",
    "    df.loc[df['Consequence'].str.contains('missense_variant'), 'Consequence'] = 'Missense'\n",
    "    df.loc[df['Consequence'].str.contains('synonymous_variant'), 'Consequence'] = 'Synonymous'\n",
    "    #df.loc[df['Consequence'] == 'intron_variant', 'Consequence'] = 'Intron'\n",
    "    df.loc[df['Consequence'].str.contains('stop_gained'), 'Consequence'] = 'Stop'\n",
    "    #df.loc[(df['Consequence'] == 'splice_polypyrimidine_tract_variant') |(df['Consequence'] == 'splice_region_variant') | (df['Consequence'] == 'splice_acceptor_variant') | (df['Consequence'] == 'splice_donor_region_variant') | (df['Consequence'] == 'splice_donor_5th_base_variant') | (df['Consequence'] == 'splice_donor_variant'),'Consequence'] = 'Splice'\n",
    "    #df.loc[df['Consequence'] == '3_prime_UTR_variant', 'Consequence'] = 'UTR'\n",
    "\n",
    "    return df"
   ]
  },
  {
   "cell_type": "code",
   "execution_count": null,
   "id": "4",
   "metadata": {
    "jupyter": {
     "source_hidden": true
    }
   },
   "outputs": [],
   "source": [
    "def rewrite_targets(df): #Rewrites SGE target to get exon number only\n",
    "    \n",
    "    i = 0\n",
    "    while i < len(df):\n",
    "        target = df['target'][i] #gets SGE target\n",
    "        id = df['pos_id'][i]\n",
    "        split = target.split(\"_\") #splits SGE target name by _ and yields list with [Gene name, X(exon#)(region letter)]\n",
    "        x_format = split[1] #gives just the exon and SGE target\n",
    "\n",
    "        if x_format[1:3].isdigit(): #rewrites target for exon numbers greater than 9\n",
    "            exon = int(x_format[1:3])\n",
    "            df.loc[df['pos_id'] == id, 'target'] = exon\n",
    "        elif x_format[1].isdigit(): #rewrites target for exon numbers less than 9\n",
    "            exon = int(x_format[1])\n",
    "            df.loc[df['pos_id'] == id, 'target'] = exon\n",
    "\n",
    "        \n",
    "        i += 1\n",
    "\n",
    "    return df"
   ]
  },
  {
   "cell_type": "code",
   "execution_count": null,
   "id": "5",
   "metadata": {
    "jupyter": {
     "source_hidden": true
    }
   },
   "outputs": [],
   "source": [
    "def exon_stats(df, path_max, benign_min): #Generates summary dataframe with % of variants in each functional class for each exon\n",
    "\n",
    "    exon_df_list = [] #List to hold summary dataframes for each target\n",
    "    grouped_exons = df.groupby(['target','Consequence'])\n",
    "    for group_name, group_df in grouped_exons:\n",
    "        exon, var_type = group_name\n",
    "        scores = group_df['snv_score'].tolist()\n",
    "\n",
    "        non = 0 #counters for nonfunctional group\n",
    "\n",
    "        inter = 0 #counter for intermediate group\n",
    "        \n",
    "        for elem in scores: #Iterates through grouped scores and determines number of variants in each functional class\n",
    "            if elem <= path_max: #Boolean for non-functional \n",
    "                non += 1\n",
    "            elif path_max < elem < benign_min: #Boolean for functional\n",
    "                inter += 1\n",
    "\n",
    "        non_per = (non / len(group_df)) * 100 #Gets % non-functional\n",
    "        inter_per = (inter / len(group_df)) * 100 #Gets % intermediate\n",
    "        same_per = (100 - (non_per + inter_per)) #Gets % functional\n",
    "\n",
    "        #Creates 3 separate dataframes for each functional class\n",
    "        exon_non_df = pd.DataFrame({'Exon': exon, 'Consequence': var_type, 'Function Type': 'Nonfunctional', 'Percent': non_per}, index = [0])\n",
    "        exon_inter_df = pd.DataFrame({'Exon': exon, 'Consequence': var_type, 'Function Type': 'Intermediate', 'Percent': inter_per}, index = [0])\n",
    "        exon_same_df = pd.DataFrame({'Exon': exon, 'Consequence': var_type, 'Function Type': 'Functional', 'Percent': same_per}, index = [0])\n",
    "            \n",
    "        exon_df = pd.concat([exon_non_df, exon_inter_df, exon_same_df]) #Concatnates all dataframes together\n",
    "\n",
    "        exon_df_list.append(exon_df) #Appends to final dataframe list\n",
    "\n",
    "    all_exons_df = pd.concat(exon_df_list) #Concatenates all summary dataframes\n",
    "    \n",
    "    all_exons_df = all_exons_df.reset_index(drop = True) #resets index\n",
    "    \n",
    "    return all_exons_df"
   ]
  },
  {
   "cell_type": "code",
   "execution_count": null,
   "id": "6",
   "metadata": {
    "jupyter": {
     "source_hidden": true
    }
   },
   "outputs": [],
   "source": [
    "def stacked_bars(df): #Creates the stacked bar chart\n",
    "    \n",
    "    df = df.sort_values(by = ['Exon'])\n",
    "    chart = alt.Chart(df).mark_bar().encode(\n",
    "            x = alt.X('Exon:O', axis = alt.Axis(labelAngle = 0)),\n",
    "            y = 'Percent',\n",
    "            tooltip = [alt.Tooltip('Function Type', title = 'Functional Class: '), \n",
    "                        alt.Tooltip('Percent', title = 'Percent: ')],\n",
    "            color = alt.Color('Function Type', title = 'Functional Class')\n",
    "    ).facet(\n",
    "        column = 'Consequence:N'\n",
    "    )\n",
    "    chart.show()"
   ]
  },
  {
   "cell_type": "code",
   "execution_count": null,
   "id": "7",
   "metadata": {},
   "outputs": [],
   "source": [
    "def main():\n",
    "    data = read_data(file)\n",
    "    reannotated = prep_data(data)\n",
    "    num_exons = rewrite_targets(data)\n",
    "    all_stats = exon_stats(num_exons, path_max, benign_min)\n",
    "    stacked_bars(all_stats)"
   ]
  },
  {
   "cell_type": "code",
   "execution_count": null,
   "id": "8",
   "metadata": {},
   "outputs": [],
   "source": [
    "main()"
   ]
  },
  {
   "cell_type": "code",
   "execution_count": null,
   "id": "9",
   "metadata": {},
   "outputs": [],
   "source": []
  }
 ],
 "metadata": {
  "kernelspec": {
   "display_name": "Python 3 (ipykernel)",
   "language": "python",
   "name": "python3"
  },
  "language_info": {
   "codemirror_mode": {
    "name": "ipython",
    "version": 3
   },
   "file_extension": ".py",
   "mimetype": "text/x-python",
   "name": "python",
   "nbconvert_exporter": "python",
   "pygments_lexer": "ipython3",
   "version": "3.11.8"
  }
 },
 "nbformat": 4,
 "nbformat_minor": 5
}
