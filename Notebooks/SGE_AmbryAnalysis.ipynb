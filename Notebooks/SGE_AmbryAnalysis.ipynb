{
 "cells": [
  {
   "cell_type": "code",
   "execution_count": null,
   "id": "0",
   "metadata": {},
   "outputs": [],
   "source": [
    "import pandas as pd\n",
    "import altair as alt"
   ]
  },
  {
   "cell_type": "code",
   "execution_count": null,
   "id": "1",
   "metadata": {},
   "outputs": [],
   "source": [
    "ambry = '/Users/ivan/Downloads/Ambry_BARD1.xlsx'\n",
    "sge_data = '../Data/20250122_BARD1_SGEscores_wAAsub.xlsx'\n",
    "gnomad = '../Data/20240905_BARD1_gnomADv4.1.0_SNVs.xlsx'"
   ]
  },
  {
   "cell_type": "code",
   "execution_count": null,
   "id": "2",
   "metadata": {},
   "outputs": [],
   "source": [
    "def read_data(ambry, gnomad, sge):\n",
    "    ambry = pd.read_excel(ambry)\n",
    "    ambry = ambry[['Gene', 'c_variant', 'p_variant', 'Classification']]\n",
    "\n",
    "    \n",
    "    sge = pd.read_excel(sge)\n",
    "    sge = sge[['chrom', 'target','AAsub', 'Consequence', 'snv_score']]\n",
    "\n",
    "    \n",
    "    gnomad = pd.read_excel(gnomad)\n",
    "    gnomad = gnomad[['Chromosome', 'Position', 'Reference', 'Alternate', 'Allele Frequency']]\n",
    "\n",
    "    return ambry, sge, gnomad"
   ]
  },
  {
   "cell_type": "code",
   "execution_count": null,
   "id": "3",
   "metadata": {},
   "outputs": [],
   "source": [
    "def main():\n",
    "    ambry_data, sge_data, gnomad_data = read_data(ambry, gnomad, sge_data)\n",
    "    "
   ]
  },
  {
   "cell_type": "code",
   "execution_count": null,
   "id": "4",
   "metadata": {},
   "outputs": [],
   "source": [
    "main()"
   ]
  },
  {
   "cell_type": "code",
   "execution_count": null,
   "id": "5",
   "metadata": {},
   "outputs": [],
   "source": []
  }
 ],
 "metadata": {
  "kernelspec": {
   "display_name": "Python 3 (ipykernel)",
   "language": "python",
   "name": "python3"
  },
  "language_info": {
   "codemirror_mode": {
    "name": "ipython",
    "version": 3
   },
   "file_extension": ".py",
   "mimetype": "text/x-python",
   "name": "python",
   "nbconvert_exporter": "python",
   "pygments_lexer": "ipython3",
   "version": "3.11.8"
  }
 },
 "nbformat": 4,
 "nbformat_minor": 5
}
