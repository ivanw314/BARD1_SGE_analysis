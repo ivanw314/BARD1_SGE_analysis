{
 "cells": [
  {
   "cell_type": "code",
   "execution_count": null,
   "id": "0",
   "metadata": {},
   "outputs": [],
   "source": [
    "import pandas as pd\n",
    "import altair as alt\n",
    "import numpy as np\n",
    "from scipy import stats\n",
    "import statsmodels.api as sm"
   ]
  },
  {
   "cell_type": "code",
   "execution_count": null,
   "id": "1",
   "metadata": {},
   "outputs": [],
   "source": [
    "ambry = '/Users/ivan/Downloads/Ambry_BARD1.xlsx'\n",
    "sge = '../Data/20250122_BARD1_SGEscores_wAAsub.xlsx'\n",
    "gnomad = '../Data/20240905_BARD1_gnomADv4.1.0_SNVs.xlsx'\n",
    "\n",
    "#Functional Class Cutoffs\n",
    "path_max = 0.689682159032362 \n",
    "benign_min = 0.807231141721117\n",
    "\n",
    "\n",
    "aa_dict = {\n",
    "    'Ala': 'A',\n",
    "    'Cys': 'C',\n",
    "    'Asp': 'D',\n",
    "    'Glu': 'E',\n",
    "    'Phe': 'F',\n",
    "    'Gly': 'G',\n",
    "    'His': 'H',\n",
    "    'Ile': 'I',\n",
    "    'Lys': 'K',\n",
    "    'Leu': 'L',\n",
    "    'Met': 'M',\n",
    "    'Asn': 'N',\n",
    "    'Pro': 'P',\n",
    "    'Gln': 'Q',\n",
    "    'Arg': 'R',\n",
    "    'Ser': 'S',\n",
    "    'Thr': 'T',\n",
    "    'Val': 'V',\n",
    "    'Trp': 'W',\n",
    "    'Tyr': 'Y',\n",
    "    'Ter': '*'   # Termination codon\n",
    "}"
   ]
  },
  {
   "cell_type": "code",
   "execution_count": null,
   "id": "2",
   "metadata": {
    "jupyter": {
     "source_hidden": true
    }
   },
   "outputs": [],
   "source": [
    "def read_data(ambry, gnomad, sge):\n",
    "    ambry = pd.read_excel(ambry)\n",
    "    ambry = ambry[['Gene', 'c_variant', 'p_variant', 'Classification']]\n",
    "\n",
    "    \n",
    "    sge = pd.read_excel(sge)\n",
    "    sge = sge[['chrom', 'target','AAsub', 'pos_id','Consequence', 'snv_score']]\n",
    "\n",
    "    \n",
    "    gnomad = pd.read_excel(gnomad)\n",
    "    gnomad = gnomad[['Chromosome', 'Position', 'Reference', 'Alternate', 'Allele Frequency', 'Protein Consequence']]\n",
    "\n",
    "    return ambry, sge, gnomad"
   ]
  },
  {
   "cell_type": "code",
   "execution_count": null,
   "id": "3",
   "metadata": {},
   "outputs": [],
   "source": [
    "def classify_vars(sge, path_max, benign_min):\n",
    "    sge['Classification'] = None\n",
    "\n",
    "    sge.loc[sge['snv_score'] <= path_max, 'Classification'] = 'NF'\n",
    "    sge.loc[sge['snv_score'] >= benign_min, 'Classification'] = 'F'\n",
    "    sge.loc[sge['Classification'] == None, 'Classification'] = 'I'\n",
    "    \n",
    "    return sge"
   ]
  },
  {
   "cell_type": "code",
   "execution_count": null,
   "id": "4",
   "metadata": {},
   "outputs": [],
   "source": [
    "def get_missense_stats(df):\n",
    "    missense_df = df[df['Consequence'].isin(['missense_variant'])]\n",
    "    benign = missense_df['Classification'].value_counts()['F']\n",
    "    pathogenic = missense_df['Classification'].value_counts()['NF']\n",
    "    total_classified = benign + pathogenic\n",
    "    \n",
    "    print('Total Missense Classified: ', total_classified)\n",
    "    print('Benign Missense: ', benign)\n",
    "    print('Pathogenic Missense: ', pathogenic)"
   ]
  },
  {
   "cell_type": "code",
   "execution_count": null,
   "id": "5",
   "metadata": {},
   "outputs": [],
   "source": [
    "def convert_aa(aa_string, aa_dict):\n",
    "    first_aa = aa_string[0:3]\n",
    "    last_aa = aa_string[-3::]\n",
    "    position = aa_string[3:-3]\n",
    "\n",
    "    first_aa_code = aa_dict.get(first_aa, first_aa)\n",
    "    last_aa_code = aa_dict.get(last_aa, last_aa)\n",
    "\n",
    "    return f\"{first_aa_code}{position}{last_aa_code}\""
   ]
  },
  {
   "cell_type": "code",
   "execution_count": null,
   "id": "6",
   "metadata": {},
   "outputs": [],
   "source": [
    "def process_gnomad(gnomad):\n",
    "\n",
    "    gnomad['Position'] = gnomad['Position'].astype(str)\n",
    "    gnomad['pos_id'] = gnomad['Position'] + ':' + gnomad['Alternate']\n",
    "    \n",
    "    #gnomad['AAsub'] = gnomad['Protein Consequence'].str[2:]\n",
    "    #gnomad['AAsub'] = gnomad['AAsub'].apply(lambda x: convert_aa(x, aa_dict))\n",
    "    \n",
    "    #gnomad = gnomad.dropna(subset = ['Protein Consequence'])\n",
    "    return gnomad"
   ]
  },
  {
   "cell_type": "code",
   "execution_count": null,
   "id": "7",
   "metadata": {},
   "outputs": [],
   "source": [
    "def process_ambry(ambry, aa_dict):\n",
    "    \n",
    "    ambry['AAsub'] = ambry['p_variant'].str[2:]\n",
    "\n",
    "    ambry = ambry.dropna(subset = ['AAsub']).copy()\n",
    "    ambry = ambry.reset_index(drop = True)\n",
    "    #ambry['AAsub'] = ambry['AAsub'].apply(lambda x: convert_aa(x, aa_dict))\n",
    "    return ambry"
   ]
  },
  {
   "cell_type": "code",
   "execution_count": null,
   "id": "8",
   "metadata": {},
   "outputs": [],
   "source": [
    "def get_oddsratio_beta(sge, gnomad, ambry):\n",
    "    \n",
    "    sge_gnomad = pd.merge(sge, gnomad, on = 'pos_id', how = 'inner')\n",
    "    gnomad_func = sge_gnomad['Classification'].value_counts()['F']\n",
    "    gnomad_nf = sge_gnomad['Classification'].value_counts()['NF']\n",
    "    \n",
    "    sge_ambry = pd.merge(sge,ambry, on = 'AAsub', how = 'inner')\n",
    "\n",
    "    ambry_func = sge_ambry['Classification_x'].value_counts()['F']\n",
    "    ambry_nf = sge_ambry['Classification_x'].value_counts()['NF'] \n",
    "\n",
    "    contingency_table = np.array([[ambry_nf, ambry_func],\n",
    "                                    [gnomad_nf, gnomad_func]])\n",
    "\n",
    "    df = pd.DataFrame(contingency_table, columns = ['NF', 'F'], index = ['Ambry', 'gnomAD'])\n",
    "    display(df)\n",
    "    oddsratio, p_value = stats.fisher_exact(contingency_table)\n",
    "    \n",
    "    print(f\"Odds Ratio: {oddsratio}\")\n",
    "    print(f\"P-value: {p_value}\")"
   ]
  },
  {
   "cell_type": "code",
   "execution_count": null,
   "id": "9",
   "metadata": {},
   "outputs": [],
   "source": [
    "def get_oddsratio_logistic(sge, gnomad, ambry):\n",
    "    sge_gnomad = pd.merge(sge, gnomad, on = 'pos_id', how = 'inner')\n",
    "    "
   ]
  },
  {
   "cell_type": "code",
   "execution_count": null,
   "id": "10",
   "metadata": {
    "jupyter": {
     "source_hidden": true
    }
   },
   "outputs": [],
   "source": [
    "def get_oddsratio(sge, gnomad, ambry):\n",
    "    sge_nf = sge.loc[sge['Classification'].isin(['NF'])]\n",
    "\n",
    "    #sge_nf = sge_nf.dropna(subset = ['AAsub'])\n",
    "\n",
    "    \n",
    "    total_gnomad = len(gnomad)\n",
    "    sge_gnomad = pd.merge(sge_nf, gnomad, on = 'pos_id', how = 'inner')\n",
    "\n",
    "    sge_nf_gnomad = len(sge_gnomad)\n",
    "    odds_gnomad = sge_nf_gnomad / total_gnomad\n",
    "\n",
    "    total_ambry = len(ambry)\n",
    "    sge_ambry = pd.merge(sge_nf, ambry, on = 'AAsub', how = 'inner')\n",
    "    sge_nf_ambry = len(sge_ambry)\n",
    "\n",
    "    odds_ambry = sge_nf_ambry/total_ambry\n",
    "\n",
    "    odds_ratio = odds_ambry/odds_gnomad\n",
    "\n",
    "    odds_df = pd.DataFrame({'gnomad_odds': odds_gnomad, \n",
    "                            'ambry_odds': odds_ambry,\n",
    "                            'ratio': odds_ratio,\n",
    "                           }, index = [0])\n",
    "    print(total_gnomad, total_ambry)\n",
    "    print(sge_nf_gnomad, sge_nf_ambry)\n",
    "    display(odds_df)"
   ]
  },
  {
   "cell_type": "code",
   "execution_count": null,
   "id": "11",
   "metadata": {},
   "outputs": [],
   "source": [
    "def main():\n",
    "    ambry_data, sge_data, gnomad_data = read_data(ambry, gnomad, sge)\n",
    "    sge_classified = classify_vars(sge_data, path_max, benign_min)\n",
    "    get_missense_stats(sge_classified)\n",
    "    gnomad_data = process_gnomad(gnomad_data)\n",
    "    ambry_data = process_ambry(ambry_data, aa_dict)\n",
    "    \n",
    "    #get_oddsratio(sge_classified, gnomad_data, ambry_data)\n",
    "    get_oddsratio_beta(sge_classified, gnomad_data, ambry_data)"
   ]
  },
  {
   "cell_type": "code",
   "execution_count": null,
   "id": "12",
   "metadata": {},
   "outputs": [],
   "source": [
    "main()"
   ]
  },
  {
   "cell_type": "code",
   "execution_count": null,
   "id": "13",
   "metadata": {},
   "outputs": [],
   "source": []
  }
 ],
 "metadata": {
  "kernelspec": {
   "display_name": "Python 3 (ipykernel)",
   "language": "python",
   "name": "python3"
  },
  "language_info": {
   "codemirror_mode": {
    "name": "ipython",
    "version": 3
   },
   "file_extension": ".py",
   "mimetype": "text/x-python",
   "name": "python",
   "nbconvert_exporter": "python",
   "pygments_lexer": "ipython3",
   "version": "3.11.8"
  }
 },
 "nbformat": 4,
 "nbformat_minor": 5
}
