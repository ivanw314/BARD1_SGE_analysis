{
 "cells": [
  {
   "cell_type": "code",
   "execution_count": null,
   "id": "0",
   "metadata": {},
   "outputs": [],
   "source": [
    "import pandas as pd\n",
    "import altair as alt"
   ]
  },
  {
   "cell_type": "code",
   "execution_count": null,
   "id": "1",
   "metadata": {},
   "outputs": [],
   "source": [
    "ambry = '/Users/ivan/Downloads/Ambry_BARD1.xlsx'\n",
    "sge = '../Data/20250122_BARD1_SGEscores_wAAsub.xlsx'\n",
    "gnomad = '../Data/20240905_BARD1_gnomADv4.1.0_SNVs.xlsx'\n",
    "\n",
    "#Functional Class Cutoffs\n",
    "path_max = 0.689682159032362 \n",
    "benign_min = 0.807231141721117"
   ]
  },
  {
   "cell_type": "code",
   "execution_count": null,
   "id": "2",
   "metadata": {},
   "outputs": [],
   "source": [
    "def read_data(ambry, gnomad, sge):\n",
    "    ambry = pd.read_excel(ambry)\n",
    "    ambry = ambry[['Gene', 'c_variant', 'p_variant', 'Classification']]\n",
    "\n",
    "    \n",
    "    sge = pd.read_excel(sge)\n",
    "    sge = sge[['chrom', 'target','AAsub', 'pos_id','Consequence', 'snv_score']]\n",
    "\n",
    "    \n",
    "    gnomad = pd.read_excel(gnomad)\n",
    "    gnomad = gnomad[['Chromosome', 'Position', 'Reference', 'Alternate', 'Allele Frequency']]\n",
    "\n",
    "    return ambry, sge, gnomad"
   ]
  },
  {
   "cell_type": "code",
   "execution_count": null,
   "id": "3",
   "metadata": {},
   "outputs": [],
   "source": [
    "def classify_vars(sge, path_max, benign_min):\n",
    "    sge['Classification'] = None\n",
    "\n",
    "    sge.loc[sge['snv_score'] <= path_max, 'Classification'] = 'NF'\n",
    "    sge.loc[sge['snv_score'] >= benign_min, 'Classification'] = 'F'\n",
    "    sge.loc[sge['Classification'] == None, 'Classification'] = 'I'\n",
    "    \n",
    "    return sge"
   ]
  },
  {
   "cell_type": "code",
   "execution_count": null,
   "id": "4",
   "metadata": {},
   "outputs": [],
   "source": [
    "def process_gnomad(gnomad):\n",
    "    gnomad['Position'] = gnomad['Position'].astype(str)\n",
    "    gnomad['pos_id'] = gnomad['Position'] + ':' + gnomad['Alternate']\n",
    "\n",
    "    return gnomad"
   ]
  },
  {
   "cell_type": "code",
   "execution_count": null,
   "id": "5",
   "metadata": {},
   "outputs": [],
   "source": [
    "def process_ambry(ambry):\n",
    "    print(ambry)"
   ]
  },
  {
   "cell_type": "code",
   "execution_count": null,
   "id": "6",
   "metadata": {},
   "outputs": [],
   "source": [
    "def get_oddsratio(sge, gnomad, ambry):\n",
    "    sge_nf = sge.loc[sge['Classification'].isin(['NF'])]\n",
    "    total_gnomad = len(gnomad)"
   ]
  },
  {
   "cell_type": "code",
   "execution_count": null,
   "id": "7",
   "metadata": {},
   "outputs": [],
   "source": [
    "def main():\n",
    "    ambry_data, sge_data, gnomad_data = read_data(ambry, gnomad, sge)\n",
    "    sge_classified = classify_vars(sge_data, path_max, benign_min)\n",
    "    gnomad_data = process_gnomad(gnomad_data)\n",
    "    process_ambry(ambry_data)\n",
    "    get_oddsratio(sge_classified, gnomad_data, ambry_data)"
   ]
  },
  {
   "cell_type": "code",
   "execution_count": null,
   "id": "8",
   "metadata": {},
   "outputs": [],
   "source": [
    "main()"
   ]
  },
  {
   "cell_type": "code",
   "execution_count": null,
   "id": "9",
   "metadata": {},
   "outputs": [],
   "source": []
  }
 ],
 "metadata": {
  "kernelspec": {
   "display_name": "Python 3 (ipykernel)",
   "language": "python",
   "name": "python3"
  },
  "language_info": {
   "codemirror_mode": {
    "name": "ipython",
    "version": 3
   },
   "file_extension": ".py",
   "mimetype": "text/x-python",
   "name": "python",
   "nbconvert_exporter": "python",
   "pygments_lexer": "ipython3",
   "version": "3.11.8"
  }
 },
 "nbformat": 4,
 "nbformat_minor": 5
}
